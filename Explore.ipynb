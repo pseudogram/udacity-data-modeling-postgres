{
 "cells": [
  {
   "cell_type": "markdown",
   "metadata": {
    "editable": true
   },
   "source": [
    "# Exploring the Data\n",
    "\n",
    "This notebook to explore and understand the data.\n"
   ]
  },
  {
   "cell_type": "markdown",
   "metadata": {},
   "source": []
  },
  {
   "cell_type": "code",
   "execution_count": 1,
   "metadata": {
    "editable": true
   },
   "outputs": [],
   "source": [
    "import os\n",
    "import glob\n",
    "import psycopg2\n",
    "import pandas as pd\n",
    "from sql_queries import *\n",
    "import numpy as np\n",
    "from tqdm import tqdm"
   ]
  },
  {
   "cell_type": "code",
   "execution_count": 2,
   "metadata": {
    "editable": true
   },
   "outputs": [],
   "source": [
    "conn = psycopg2.connect(\"host=127.0.0.1 dbname=sparkifydb user=student password=student\")\n",
    "cur = conn.cursor()\n",
    "conn.set_session(autocommit=True)"
   ]
  },
  {
   "cell_type": "code",
   "execution_count": 5,
   "metadata": {
    "editable": true
   },
   "outputs": [],
   "source": [
    "def get_files(filepath):\n",
    "    all_files = []\n",
    "    for root, dirs, files in os.walk(filepath):\n",
    "        files = glob.glob(os.path.join(root,'*.json'))\n",
    "        for f in files :\n",
    "            all_files.append(os.path.abspath(f))\n",
    "    \n",
    "    return all_files"
   ]
  },
  {
   "cell_type": "code",
   "execution_count": 6,
   "metadata": {
    "editable": true
   },
   "outputs": [],
   "source": [
    "filepath = \"data/song_data\"\n",
    "song_files = get_files(filepath)"
   ]
  },
  {
   "cell_type": "code",
   "execution_count": 7,
   "metadata": {
    "editable": true
   },
   "outputs": [
    {
     "data": {
      "text/html": [
       "<div>\n",
       "<style scoped>\n",
       "    .dataframe tbody tr th:only-of-type {\n",
       "        vertical-align: middle;\n",
       "    }\n",
       "\n",
       "    .dataframe tbody tr th {\n",
       "        vertical-align: top;\n",
       "    }\n",
       "\n",
       "    .dataframe thead th {\n",
       "        text-align: right;\n",
       "    }\n",
       "</style>\n",
       "<table border=\"1\" class=\"dataframe\">\n",
       "  <thead>\n",
       "    <tr style=\"text-align: right;\">\n",
       "      <th></th>\n",
       "      <th>num_songs</th>\n",
       "      <th>artist_id</th>\n",
       "      <th>artist_latitude</th>\n",
       "      <th>artist_longitude</th>\n",
       "      <th>artist_location</th>\n",
       "      <th>artist_name</th>\n",
       "      <th>song_id</th>\n",
       "      <th>title</th>\n",
       "      <th>duration</th>\n",
       "      <th>year</th>\n",
       "    </tr>\n",
       "  </thead>\n",
       "  <tbody>\n",
       "    <tr>\n",
       "      <th>0</th>\n",
       "      <td>1</td>\n",
       "      <td>AR7G5I41187FB4CE6C</td>\n",
       "      <td>NaN</td>\n",
       "      <td>NaN</td>\n",
       "      <td>London, England</td>\n",
       "      <td>Adam Ant</td>\n",
       "      <td>SONHOTT12A8C13493C</td>\n",
       "      <td>Something Girls</td>\n",
       "      <td>233.40363</td>\n",
       "      <td>1982</td>\n",
       "    </tr>\n",
       "    <tr>\n",
       "      <th>0</th>\n",
       "      <td>1</td>\n",
       "      <td>AR8ZCNI1187B9A069B</td>\n",
       "      <td>NaN</td>\n",
       "      <td>NaN</td>\n",
       "      <td></td>\n",
       "      <td>Planet P Project</td>\n",
       "      <td>SOIAZJW12AB01853F1</td>\n",
       "      <td>Pink World</td>\n",
       "      <td>269.81832</td>\n",
       "      <td>1984</td>\n",
       "    </tr>\n",
       "    <tr>\n",
       "      <th>0</th>\n",
       "      <td>1</td>\n",
       "      <td>ARXR32B1187FB57099</td>\n",
       "      <td>NaN</td>\n",
       "      <td>NaN</td>\n",
       "      <td></td>\n",
       "      <td>Gob</td>\n",
       "      <td>SOFSOCN12A8C143F5D</td>\n",
       "      <td>Face the Ashes</td>\n",
       "      <td>209.60608</td>\n",
       "      <td>2007</td>\n",
       "    </tr>\n",
       "    <tr>\n",
       "      <th>0</th>\n",
       "      <td>1</td>\n",
       "      <td>AR10USD1187B99F3F1</td>\n",
       "      <td>NaN</td>\n",
       "      <td>NaN</td>\n",
       "      <td>Burlington, Ontario, Canada</td>\n",
       "      <td>Tweeterfriendly Music</td>\n",
       "      <td>SOHKNRJ12A6701D1F8</td>\n",
       "      <td>Drop of Rain</td>\n",
       "      <td>189.57016</td>\n",
       "      <td>0</td>\n",
       "    </tr>\n",
       "    <tr>\n",
       "      <th>0</th>\n",
       "      <td>1</td>\n",
       "      <td>ARGSJW91187B9B1D6B</td>\n",
       "      <td>35.21962</td>\n",
       "      <td>-80.01955</td>\n",
       "      <td>North Carolina</td>\n",
       "      <td>JennyAnyKind</td>\n",
       "      <td>SOQHXMF12AB0182363</td>\n",
       "      <td>Young Boy Blues</td>\n",
       "      <td>218.77506</td>\n",
       "      <td>0</td>\n",
       "    </tr>\n",
       "  </tbody>\n",
       "</table>\n",
       "</div>"
      ],
      "text/plain": [
       "   num_songs           artist_id  artist_latitude  artist_longitude  \\\n",
       "0          1  AR7G5I41187FB4CE6C              NaN               NaN   \n",
       "0          1  AR8ZCNI1187B9A069B              NaN               NaN   \n",
       "0          1  ARXR32B1187FB57099              NaN               NaN   \n",
       "0          1  AR10USD1187B99F3F1              NaN               NaN   \n",
       "0          1  ARGSJW91187B9B1D6B         35.21962         -80.01955   \n",
       "\n",
       "               artist_location            artist_name             song_id  \\\n",
       "0              London, England               Adam Ant  SONHOTT12A8C13493C   \n",
       "0                                    Planet P Project  SOIAZJW12AB01853F1   \n",
       "0                                                 Gob  SOFSOCN12A8C143F5D   \n",
       "0  Burlington, Ontario, Canada  Tweeterfriendly Music  SOHKNRJ12A6701D1F8   \n",
       "0               North Carolina           JennyAnyKind  SOQHXMF12AB0182363   \n",
       "\n",
       "             title   duration  year  \n",
       "0  Something Girls  233.40363  1982  \n",
       "0       Pink World  269.81832  1984  \n",
       "0   Face the Ashes  209.60608  2007  \n",
       "0     Drop of Rain  189.57016     0  \n",
       "0  Young Boy Blues  218.77506     0  "
      ]
     },
     "execution_count": 7,
     "metadata": {},
     "output_type": "execute_result"
    }
   ],
   "source": [
    "df = pd.concat([pd.read_json(song_files[i], lines=True) for i in range(len(song_files))])\n",
    "df.head()"
   ]
  },
  {
   "cell_type": "markdown",
   "metadata": {},
   "source": [
    "## Check for null values"
   ]
  },
  {
   "cell_type": "code",
   "execution_count": 8,
   "metadata": {},
   "outputs": [
    {
     "data": {
      "text/plain": [
       "num_songs            0\n",
       "artist_id            0\n",
       "artist_latitude     41\n",
       "artist_longitude    41\n",
       "artist_location      0\n",
       "artist_name          0\n",
       "song_id              0\n",
       "title                0\n",
       "duration             0\n",
       "year                 0\n",
       "dtype: int64"
      ]
     },
     "execution_count": 8,
     "metadata": {},
     "output_type": "execute_result"
    }
   ],
   "source": [
    "df.isnull().sum(axis = 0)"
   ]
  },
  {
   "cell_type": "markdown",
   "metadata": {},
   "source": [
    "Here we see only lat and long have null values"
   ]
  },
  {
   "cell_type": "markdown",
   "metadata": {},
   "source": [
    "## Find the min and max of each string / number"
   ]
  },
  {
   "cell_type": "code",
   "execution_count": 13,
   "metadata": {},
   "outputs": [],
   "source": [
    "def find_min_max(column):\n",
    "    data_type = type(column[0])\n",
    "    \n",
    "    minimum = float('inf')\n",
    "    maximum = float('-inf')\n",
    "    \n",
    "    if data_type == str:\n",
    "        for i in column:\n",
    "            if i is None:\n",
    "                continue\n",
    "            if len(i) < minimum:\n",
    "                minimum = len(i)\n",
    "            elif len(i) > maximum:\n",
    "                maximum = len(i)\n",
    "    elif data_type == int or data_type == np.int32:\n",
    "        for i in column:\n",
    "            if i < minimum:\n",
    "                minimum = i\n",
    "            elif i > maximum:\n",
    "                maximum = i\n",
    "    elif data_type == float:\n",
    "        precision = 0\n",
    "        scale = 0\n",
    "        for i in column:\n",
    "            if pd.isna(i):\n",
    "                continue\n",
    "            p, s = str(i).split('.')\n",
    "            if len(p) > precision:\n",
    "                precision = len(p)\n",
    "            if len(s) > scale:\n",
    "                scale = len(s)\n",
    "                \n",
    "            if i < minimum:\n",
    "                minimum = i\n",
    "            elif i > maximum:\n",
    "                maximum = i\n",
    "        print('max scale {}\\n max precision {}'.format(scale, scale+precision, ))\n",
    "        \n",
    "    \n",
    "    print('minimum', minimum, '\\nmaximum', maximum)"
   ]
  },
  {
   "cell_type": "code",
   "execution_count": 14,
   "metadata": {},
   "outputs": [
    {
     "name": "stdout",
     "output_type": "stream",
     "text": [
      "num_songs\n",
      "minimum 1 \n",
      "maximum 1\n",
      "\n",
      "artist_id\n",
      "minimum 18 \n",
      "maximum 18\n",
      "\n",
      "artist_latitude\n",
      "max scale 5\n",
      " max precision 8\n",
      "minimum -13.442 \n",
      "maximum 56.27609\n",
      "\n",
      "artist_longitude\n",
      "max scale 15\n",
      " max precision 19\n",
      "minimum -122.42005 \n",
      "maximum 15.967600000000001\n",
      "\n",
      "artist_location\n",
      "minimum 0 \n",
      "maximum 29\n",
      "\n",
      "artist_name\n",
      "minimum 3 \n",
      "maximum 94\n",
      "\n",
      "song_id\n",
      "minimum 18 \n",
      "maximum 18\n",
      "\n",
      "title\n",
      "minimum 5 \n",
      "maximum 52\n",
      "\n",
      "duration\n",
      "max scale 5\n",
      " max precision 8\n",
      "minimum 29.54404 \n",
      "maximum 599.24853\n",
      "\n",
      "year\n",
      "minimum 0 \n",
      "maximum 2008\n",
      "\n"
     ]
    }
   ],
   "source": [
    "titles = {\"num_songs\":0,\n",
    "\"artist_id\":1,\n",
    "\"artist_latitude\":2,\n",
    "\"artist_longitude\":3,\n",
    "\"artist_location\":4,\n",
    "\"artist_name\":5,\n",
    "\"song_id\":6,\n",
    "\"title\":7,\n",
    "\"duration\":8,\n",
    "\"year\":9}\n",
    "\n",
    "for k,v in titles.items():\n",
    "    print(k)\n",
    "    find_min_max(df.to_numpy()[:,[v]].flatten())\n",
    "    print()\n"
   ]
  },
  {
   "cell_type": "code",
   "execution_count": 15,
   "metadata": {
    "editable": true
   },
   "outputs": [],
   "source": [
    "filepath = \"data/log_data\"\n",
    "logfiles = get_files(filepath)"
   ]
  },
  {
   "cell_type": "code",
   "execution_count": 17,
   "metadata": {
    "editable": true
   },
   "outputs": [
    {
     "data": {
      "text/html": [
       "<div>\n",
       "<style scoped>\n",
       "    .dataframe tbody tr th:only-of-type {\n",
       "        vertical-align: middle;\n",
       "    }\n",
       "\n",
       "    .dataframe tbody tr th {\n",
       "        vertical-align: top;\n",
       "    }\n",
       "\n",
       "    .dataframe thead th {\n",
       "        text-align: right;\n",
       "    }\n",
       "</style>\n",
       "<table border=\"1\" class=\"dataframe\">\n",
       "  <thead>\n",
       "    <tr style=\"text-align: right;\">\n",
       "      <th></th>\n",
       "      <th>artist</th>\n",
       "      <th>auth</th>\n",
       "      <th>firstName</th>\n",
       "      <th>gender</th>\n",
       "      <th>itemInSession</th>\n",
       "      <th>lastName</th>\n",
       "      <th>length</th>\n",
       "      <th>level</th>\n",
       "      <th>location</th>\n",
       "      <th>method</th>\n",
       "      <th>page</th>\n",
       "      <th>registration</th>\n",
       "      <th>sessionId</th>\n",
       "      <th>song</th>\n",
       "      <th>status</th>\n",
       "      <th>ts</th>\n",
       "      <th>userAgent</th>\n",
       "      <th>userId</th>\n",
       "    </tr>\n",
       "  </thead>\n",
       "  <tbody>\n",
       "    <tr>\n",
       "      <th>0</th>\n",
       "      <td>Frumpies</td>\n",
       "      <td>Logged In</td>\n",
       "      <td>Anabelle</td>\n",
       "      <td>F</td>\n",
       "      <td>0</td>\n",
       "      <td>Simpson</td>\n",
       "      <td>134.47791</td>\n",
       "      <td>free</td>\n",
       "      <td>Philadelphia-Camden-Wilmington, PA-NJ-DE-MD</td>\n",
       "      <td>PUT</td>\n",
       "      <td>NextSong</td>\n",
       "      <td>1.541044e+12</td>\n",
       "      <td>455</td>\n",
       "      <td>Fuck Kitty</td>\n",
       "      <td>200</td>\n",
       "      <td>1541903636796</td>\n",
       "      <td>\"Mozilla/5.0 (Macintosh; Intel Mac OS X 10_9_4...</td>\n",
       "      <td>69</td>\n",
       "    </tr>\n",
       "    <tr>\n",
       "      <th>1</th>\n",
       "      <td>Kenny G with Peabo Bryson</td>\n",
       "      <td>Logged In</td>\n",
       "      <td>Anabelle</td>\n",
       "      <td>F</td>\n",
       "      <td>1</td>\n",
       "      <td>Simpson</td>\n",
       "      <td>264.75057</td>\n",
       "      <td>free</td>\n",
       "      <td>Philadelphia-Camden-Wilmington, PA-NJ-DE-MD</td>\n",
       "      <td>PUT</td>\n",
       "      <td>NextSong</td>\n",
       "      <td>1.541044e+12</td>\n",
       "      <td>455</td>\n",
       "      <td>By The Time This Night Is Over</td>\n",
       "      <td>200</td>\n",
       "      <td>1541903770796</td>\n",
       "      <td>\"Mozilla/5.0 (Macintosh; Intel Mac OS X 10_9_4...</td>\n",
       "      <td>69</td>\n",
       "    </tr>\n",
       "  </tbody>\n",
       "</table>\n",
       "</div>"
      ],
      "text/plain": [
       "                      artist       auth firstName gender  itemInSession  \\\n",
       "0                   Frumpies  Logged In  Anabelle      F              0   \n",
       "1  Kenny G with Peabo Bryson  Logged In  Anabelle      F              1   \n",
       "\n",
       "  lastName     length level                                     location  \\\n",
       "0  Simpson  134.47791  free  Philadelphia-Camden-Wilmington, PA-NJ-DE-MD   \n",
       "1  Simpson  264.75057  free  Philadelphia-Camden-Wilmington, PA-NJ-DE-MD   \n",
       "\n",
       "  method      page  registration  sessionId                            song  \\\n",
       "0    PUT  NextSong  1.541044e+12        455                      Fuck Kitty   \n",
       "1    PUT  NextSong  1.541044e+12        455  By The Time This Night Is Over   \n",
       "\n",
       "   status             ts                                          userAgent  \\\n",
       "0     200  1541903636796  \"Mozilla/5.0 (Macintosh; Intel Mac OS X 10_9_4...   \n",
       "1     200  1541903770796  \"Mozilla/5.0 (Macintosh; Intel Mac OS X 10_9_4...   \n",
       "\n",
       "  userId  \n",
       "0     69  \n",
       "1     69  "
      ]
     },
     "execution_count": 17,
     "metadata": {},
     "output_type": "execute_result"
    }
   ],
   "source": [
    "df = pd.concat([pd.read_json(logfiles[i], lines=True) for i in range(len(logfiles))])\n",
    "df.head(2)"
   ]
  },
  {
   "cell_type": "code",
   "execution_count": 21,
   "metadata": {},
   "outputs": [
    {
     "name": "stdout",
     "output_type": "stream",
     "text": [
      "artist\n",
      "minimum 2 \n",
      "maximum 89\n",
      "\n",
      "auth\n",
      "minimum 9 \n",
      "maximum 10\n",
      "\n",
      "firstName\n",
      "minimum 3 \n",
      "maximum 10\n",
      "\n",
      "gender\n",
      "minimum 1 \n",
      "maximum 1\n",
      "\n",
      "itemInSession\n",
      "minimum 0 \n",
      "maximum 127\n",
      "\n",
      "lastName\n",
      "minimum 3 \n",
      "maximum 9\n",
      "\n",
      "length\n",
      "max scale 14\n",
      " max precision 18\n",
      "minimum 15.85587 \n",
      "maximum 2594.87302\n",
      "\n",
      "level\n",
      "minimum 4 \n",
      "maximum 4\n",
      "\n",
      "location\n",
      "minimum 10 \n",
      "maximum 46\n",
      "\n",
      "method\n",
      "minimum 3 \n",
      "maximum 3\n",
      "\n",
      "page\n",
      "minimum 4 \n",
      "maximum 16\n",
      "\n",
      "registration\n",
      "max scale 1\n",
      " max precision 14\n",
      "minimum 1539908999796.0 \n",
      "maximum 1541098488796.0\n",
      "\n",
      "sessionId\n",
      "minimum 3 \n",
      "maximum 1114\n",
      "\n",
      "song\n",
      "minimum 1 \n",
      "maximum 151\n",
      "\n",
      "userAgent\n",
      "minimum 63 \n",
      "maximum 139\n",
      "\n"
     ]
    }
   ],
   "source": [
    "titles = {\"artist\":0,\n",
    "\"auth\":1,\n",
    "\"firstName\":2,\n",
    "\"gender\":3,\n",
    "\"itemInSession\":4,\n",
    "\"lastName\":5,\n",
    "\"length\":6,\n",
    "\"level\":7,\n",
    "\"location\":8,\n",
    "\"method\":9,\n",
    "\"page\":10,\n",
    "\"registration\":11,\n",
    "\"sessionId\":12,\n",
    "\"song\":13,\n",
    "\"userAgent\":16}\n",
    "\n",
    "for k,v in titles.items():\n",
    "    print(k)\n",
    "    find_min_max(df.to_numpy()[:,[v]].flatten())\n",
    "    print()\n"
   ]
  }
 ],
 "metadata": {
  "kernelspec": {
   "display_name": "Python [conda env:udacity-data] *",
   "language": "python",
   "name": "conda-env-udacity-data-py"
  },
  "language_info": {
   "codemirror_mode": {
    "name": "ipython",
    "version": 3
   },
   "file_extension": ".py",
   "mimetype": "text/x-python",
   "name": "python",
   "nbconvert_exporter": "python",
   "pygments_lexer": "ipython3",
   "version": "3.8.2"
  }
 },
 "nbformat": 4,
 "nbformat_minor": 4
}
