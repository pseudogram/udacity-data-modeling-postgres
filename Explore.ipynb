{
 "cells": [
  {
   "cell_type": "markdown",
   "metadata": {
    "editable": true
   },
   "source": [
    "# Exploring the Data\n",
    "This notebook to explore and understand the data"
   ]
  },
  {
   "cell_type": "code",
   "execution_count": 11,
   "metadata": {
    "editable": true
   },
   "outputs": [],
   "source": [
    "import os\n",
    "import glob\n",
    "import psycopg2\n",
    "import pandas as pd\n",
    "from sql_queries import *\n",
    "import numpy as np\n",
    "from tqdm import tqdm"
   ]
  },
  {
   "cell_type": "code",
   "execution_count": 2,
   "metadata": {
    "editable": true
   },
   "outputs": [],
   "source": [
    "conn = psycopg2.connect(\"host=127.0.0.1 dbname=sparkifydb user=dattlee\")\n",
    "cur = conn.cursor()\n",
    "conn.set_session(autocommit=True)"
   ]
  },
  {
   "cell_type": "code",
   "execution_count": 3,
   "metadata": {
    "editable": true
   },
   "outputs": [],
   "source": [
    "def get_files(filepath):\n",
    "    all_files = []\n",
    "    for root, dirs, files in os.walk(filepath):\n",
    "        files = glob.glob(os.path.join(root,'*.json'))\n",
    "        for f in files :\n",
    "            all_files.append(os.path.abspath(f))\n",
    "    \n",
    "    return all_files"
   ]
  },
  {
   "cell_type": "code",
   "execution_count": 4,
   "metadata": {
    "editable": true
   },
   "outputs": [],
   "source": [
    "filepath = \"data/song_data\"\n",
    "song_files = get_files(filepath)"
   ]
  },
  {
   "cell_type": "code",
   "execution_count": 5,
   "metadata": {
    "editable": true
   },
   "outputs": [
    {
     "data": {
      "text/html": [
       "<div>\n",
       "<style scoped>\n",
       "    .dataframe tbody tr th:only-of-type {\n",
       "        vertical-align: middle;\n",
       "    }\n",
       "\n",
       "    .dataframe tbody tr th {\n",
       "        vertical-align: top;\n",
       "    }\n",
       "\n",
       "    .dataframe thead th {\n",
       "        text-align: right;\n",
       "    }\n",
       "</style>\n",
       "<table border=\"1\" class=\"dataframe\">\n",
       "  <thead>\n",
       "    <tr style=\"text-align: right;\">\n",
       "      <th></th>\n",
       "      <th>num_songs</th>\n",
       "      <th>artist_id</th>\n",
       "      <th>artist_latitude</th>\n",
       "      <th>artist_longitude</th>\n",
       "      <th>artist_location</th>\n",
       "      <th>artist_name</th>\n",
       "      <th>song_id</th>\n",
       "      <th>title</th>\n",
       "      <th>duration</th>\n",
       "      <th>year</th>\n",
       "    </tr>\n",
       "  </thead>\n",
       "  <tbody>\n",
       "    <tr>\n",
       "      <th>0</th>\n",
       "      <td>1</td>\n",
       "      <td>AR7G5I41187FB4CE6C</td>\n",
       "      <td>NaN</td>\n",
       "      <td>NaN</td>\n",
       "      <td>London, England</td>\n",
       "      <td>Adam Ant</td>\n",
       "      <td>SONHOTT12A8C13493C</td>\n",
       "      <td>Something Girls</td>\n",
       "      <td>233.40363</td>\n",
       "      <td>1982</td>\n",
       "    </tr>\n",
       "    <tr>\n",
       "      <th>0</th>\n",
       "      <td>1</td>\n",
       "      <td>AR8ZCNI1187B9A069B</td>\n",
       "      <td>NaN</td>\n",
       "      <td>NaN</td>\n",
       "      <td></td>\n",
       "      <td>Planet P Project</td>\n",
       "      <td>SOIAZJW12AB01853F1</td>\n",
       "      <td>Pink World</td>\n",
       "      <td>269.81832</td>\n",
       "      <td>1984</td>\n",
       "    </tr>\n",
       "    <tr>\n",
       "      <th>0</th>\n",
       "      <td>1</td>\n",
       "      <td>ARXR32B1187FB57099</td>\n",
       "      <td>NaN</td>\n",
       "      <td>NaN</td>\n",
       "      <td></td>\n",
       "      <td>Gob</td>\n",
       "      <td>SOFSOCN12A8C143F5D</td>\n",
       "      <td>Face the Ashes</td>\n",
       "      <td>209.60608</td>\n",
       "      <td>2007</td>\n",
       "    </tr>\n",
       "    <tr>\n",
       "      <th>0</th>\n",
       "      <td>1</td>\n",
       "      <td>AR10USD1187B99F3F1</td>\n",
       "      <td>NaN</td>\n",
       "      <td>NaN</td>\n",
       "      <td>Burlington, Ontario, Canada</td>\n",
       "      <td>Tweeterfriendly Music</td>\n",
       "      <td>SOHKNRJ12A6701D1F8</td>\n",
       "      <td>Drop of Rain</td>\n",
       "      <td>189.57016</td>\n",
       "      <td>0</td>\n",
       "    </tr>\n",
       "    <tr>\n",
       "      <th>0</th>\n",
       "      <td>1</td>\n",
       "      <td>ARGSJW91187B9B1D6B</td>\n",
       "      <td>35.21962</td>\n",
       "      <td>-80.01955</td>\n",
       "      <td>North Carolina</td>\n",
       "      <td>JennyAnyKind</td>\n",
       "      <td>SOQHXMF12AB0182363</td>\n",
       "      <td>Young Boy Blues</td>\n",
       "      <td>218.77506</td>\n",
       "      <td>0</td>\n",
       "    </tr>\n",
       "  </tbody>\n",
       "</table>\n",
       "</div>"
      ],
      "text/plain": [
       "   num_songs           artist_id  artist_latitude  artist_longitude  \\\n",
       "0          1  AR7G5I41187FB4CE6C              NaN               NaN   \n",
       "0          1  AR8ZCNI1187B9A069B              NaN               NaN   \n",
       "0          1  ARXR32B1187FB57099              NaN               NaN   \n",
       "0          1  AR10USD1187B99F3F1              NaN               NaN   \n",
       "0          1  ARGSJW91187B9B1D6B         35.21962         -80.01955   \n",
       "\n",
       "               artist_location            artist_name             song_id  \\\n",
       "0              London, England               Adam Ant  SONHOTT12A8C13493C   \n",
       "0                                    Planet P Project  SOIAZJW12AB01853F1   \n",
       "0                                                 Gob  SOFSOCN12A8C143F5D   \n",
       "0  Burlington, Ontario, Canada  Tweeterfriendly Music  SOHKNRJ12A6701D1F8   \n",
       "0               North Carolina           JennyAnyKind  SOQHXMF12AB0182363   \n",
       "\n",
       "             title   duration  year  \n",
       "0  Something Girls  233.40363  1982  \n",
       "0       Pink World  269.81832  1984  \n",
       "0   Face the Ashes  209.60608  2007  \n",
       "0     Drop of Rain  189.57016     0  \n",
       "0  Young Boy Blues  218.77506     0  "
      ]
     },
     "execution_count": 5,
     "metadata": {},
     "output_type": "execute_result"
    }
   ],
   "source": [
    "df = pd.concat([pd.read_json(song_files[i], lines=True) for i in range(len(song_files))])\n",
    "df.head()"
   ]
  },
  {
   "cell_type": "code",
   "execution_count": 6,
   "metadata": {},
   "outputs": [
    {
     "data": {
      "text/plain": [
       "num_songs            0\n",
       "artist_id            0\n",
       "artist_latitude     41\n",
       "artist_longitude    41\n",
       "artist_location      0\n",
       "artist_name          0\n",
       "song_id              0\n",
       "title                0\n",
       "duration             0\n",
       "year                 0\n",
       "dtype: int64"
      ]
     },
     "execution_count": 6,
     "metadata": {},
     "output_type": "execute_result"
    }
   ],
   "source": [
    "df.isnull().sum(axis = 0)"
   ]
  },
  {
   "cell_type": "markdown",
   "metadata": {},
   "source": [
    "Here we see only lat and long have null values"
   ]
  },
  {
   "cell_type": "code",
   "execution_count": 7,
   "metadata": {},
   "outputs": [],
   "source": [
    "def find_min_max_len(column):\n",
    "    data_type = type(column[0])\n",
    "    \n",
    "    minimum = float('inf')\n",
    "    maximum = float('-inf')\n",
    "    \n",
    "    if data_type == str:\n",
    "        for i in column:\n",
    "            if i is None:\n",
    "                continue\n",
    "            if len(i) < minimum:\n",
    "                minimum = len(i)\n",
    "            elif len(i) > maximum:\n",
    "                maximum = len(i)\n",
    "    elif data_type == int or data_type == np.int32:\n",
    "        for i in column:\n",
    "            if i < minimum:\n",
    "                minimum = i\n",
    "            elif i > maximum:\n",
    "                maximum = i\n",
    "    elif data_type == float:\n",
    "        precision = 0\n",
    "        scale = 0\n",
    "        for i in column:\n",
    "            if pd.isna(i):\n",
    "                continue\n",
    "            p, s = str(i).split('.')\n",
    "            if len(p) > precision:\n",
    "                precision = len(p)\n",
    "            if len(s) > scale:\n",
    "                scale = len(s)\n",
    "                \n",
    "            if i < minimum:\n",
    "                minimum = i\n",
    "            elif i > maximum:\n",
    "                maximum = i\n",
    "        print('max scale {}\\n max precision {}'.format(scale, scale+precision, ))\n",
    "        \n",
    "    \n",
    "    print('minimum', minimum, '\\nmaximum', maximum)"
   ]
  },
  {
   "cell_type": "code",
   "execution_count": 9,
   "metadata": {},
   "outputs": [],
   "source": [
    "song_id = 6\n",
    "title = 7\n",
    "artist_id = 1\n",
    "year = 9\n",
    "duration = 8\n",
    "song_data = df.to_numpy()[:,[song_id, title, artist_id, year, duration]]"
   ]
  },
  {
   "cell_type": "code",
   "execution_count": 12,
   "metadata": {},
   "outputs": [
    {
     "name": "stdout",
     "output_type": "stream",
     "text": [
      "song id\n",
      "minimum 18 \n",
      "maximum 18\n",
      "\n",
      "title\n",
      "minimum 5 \n",
      "maximum 52\n",
      "\n",
      "artist id\n",
      "minimum 18 \n",
      "maximum 18\n",
      "\n",
      "year\n",
      "minimum 0 \n",
      "maximum 2008\n",
      "\n",
      "duration\n",
      "max scale 5\n",
      " max precision 8\n",
      "minimum 29.54404 \n",
      "maximum 599.24853\n"
     ]
    }
   ],
   "source": [
    "print('song id')\n",
    "find_min_max_len(song_data[:,[0]].flatten())\n",
    "\n",
    "print('\\ntitle')\n",
    "find_min_max_len(song_data[:,[1]].flatten())\n",
    "\n",
    "print('\\nartist id')\n",
    "find_min_max_len(song_data[:,[2]].flatten())\n",
    "\n",
    "print('\\nyear')\n",
    "find_min_max_len(song_data[:,[3]].flatten())\n",
    "\n",
    "print('\\nduration')\n",
    "find_min_max_len(song_data[:,[4]].flatten())"
   ]
  },
  {
   "cell_type": "code",
   "execution_count": null,
   "metadata": {},
   "outputs": [],
   "source": [
    "users_df['userId'] = users_df['userId'].astype('int')"
   ]
  }
 ],
 "metadata": {
  "kernelspec": {
   "display_name": "Python [conda env:udacity-data] *",
   "language": "python",
   "name": "conda-env-udacity-data-py"
  },
  "language_info": {
   "codemirror_mode": {
    "name": "ipython",
    "version": 3
   },
   "file_extension": ".py",
   "mimetype": "text/x-python",
   "name": "python",
   "nbconvert_exporter": "python",
   "pygments_lexer": "ipython3",
   "version": "3.8.2"
  }
 },
 "nbformat": 4,
 "nbformat_minor": 4
}
