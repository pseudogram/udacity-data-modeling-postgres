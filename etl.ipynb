{
 "cells": [
  {
   "cell_type": "markdown",
   "metadata": {
    "editable": true
   },
   "source": [
    "# ETL Processes\n",
    "Use this notebook to develop the ETL process for each of your tables before completing the `etl.py` file to load the whole datasets."
   ]
  },
  {
   "cell_type": "code",
   "execution_count": 1,
   "metadata": {
    "editable": true
   },
   "outputs": [],
   "source": [
    "import os\n",
    "import glob\n",
    "import psycopg2\n",
    "import pandas as pd\n",
    "import numpy as np\n",
    "from sql_queries import *\n",
    "from tqdm import tqdm"
   ]
  },
  {
   "cell_type": "code",
   "execution_count": 2,
   "metadata": {
    "editable": true
   },
   "outputs": [],
   "source": [
    "conn = psycopg2.connect(\"host=127.0.0.1 dbname=sparkifydb user=dattlee\")\n",
    "cur = conn.cursor()\n",
    "conn.set_session(autocommit=True)"
   ]
  },
  {
   "cell_type": "code",
   "execution_count": 3,
   "metadata": {
    "editable": true
   },
   "outputs": [],
   "source": [
    "def get_files(filepath):\n",
    "    all_files = []\n",
    "    for root, dirs, files in os.walk(filepath):\n",
    "        files = glob.glob(os.path.join(root,'*.json'))\n",
    "        for f in files :\n",
    "            all_files.append(os.path.abspath(f))\n",
    "    \n",
    "    return all_files"
   ]
  },
  {
   "cell_type": "markdown",
   "metadata": {
    "editable": true
   },
   "source": [
    "# Process `song_data`\n",
    "In this first part, you'll perform ETL on the first dataset, `song_data`, to create the `songs` and `artists` dimensional tables.\n",
    "\n",
    "Let's perform ETL on a single song file and load a single record into each table to start.\n",
    "- Use the `get_files` function provided above to get a list of all song JSON files in `data/song_data`\n",
    "- Select the first song in this list\n",
    "- Read the song file and view the data"
   ]
  },
  {
   "cell_type": "code",
   "execution_count": 4,
   "metadata": {
    "editable": true
   },
   "outputs": [],
   "source": [
    "filepath = \"data/song_data\"\n",
    "song_files = get_files(filepath)"
   ]
  },
  {
   "cell_type": "markdown",
   "metadata": {},
   "source": [
    "> Get Song data into a dataframe\n",
    "`pd.read_json(song_files[i]`"
   ]
  },
  {
   "cell_type": "code",
   "execution_count": 5,
   "metadata": {
    "editable": true
   },
   "outputs": [
    {
     "data": {
      "text/html": [
       "<div>\n",
       "<style scoped>\n",
       "    .dataframe tbody tr th:only-of-type {\n",
       "        vertical-align: middle;\n",
       "    }\n",
       "\n",
       "    .dataframe tbody tr th {\n",
       "        vertical-align: top;\n",
       "    }\n",
       "\n",
       "    .dataframe thead th {\n",
       "        text-align: right;\n",
       "    }\n",
       "</style>\n",
       "<table border=\"1\" class=\"dataframe\">\n",
       "  <thead>\n",
       "    <tr style=\"text-align: right;\">\n",
       "      <th></th>\n",
       "      <th>num_songs</th>\n",
       "      <th>artist_id</th>\n",
       "      <th>artist_latitude</th>\n",
       "      <th>artist_longitude</th>\n",
       "      <th>artist_location</th>\n",
       "      <th>artist_name</th>\n",
       "      <th>song_id</th>\n",
       "      <th>title</th>\n",
       "      <th>duration</th>\n",
       "      <th>year</th>\n",
       "    </tr>\n",
       "  </thead>\n",
       "  <tbody>\n",
       "    <tr>\n",
       "      <th>0</th>\n",
       "      <td>1</td>\n",
       "      <td>AR7G5I41187FB4CE6C</td>\n",
       "      <td>NaN</td>\n",
       "      <td>NaN</td>\n",
       "      <td>London, England</td>\n",
       "      <td>Adam Ant</td>\n",
       "      <td>SONHOTT12A8C13493C</td>\n",
       "      <td>Something Girls</td>\n",
       "      <td>233.40363</td>\n",
       "      <td>1982</td>\n",
       "    </tr>\n",
       "    <tr>\n",
       "      <th>0</th>\n",
       "      <td>1</td>\n",
       "      <td>AR8ZCNI1187B9A069B</td>\n",
       "      <td>NaN</td>\n",
       "      <td>NaN</td>\n",
       "      <td></td>\n",
       "      <td>Planet P Project</td>\n",
       "      <td>SOIAZJW12AB01853F1</td>\n",
       "      <td>Pink World</td>\n",
       "      <td>269.81832</td>\n",
       "      <td>1984</td>\n",
       "    </tr>\n",
       "    <tr>\n",
       "      <th>0</th>\n",
       "      <td>1</td>\n",
       "      <td>ARXR32B1187FB57099</td>\n",
       "      <td>NaN</td>\n",
       "      <td>NaN</td>\n",
       "      <td></td>\n",
       "      <td>Gob</td>\n",
       "      <td>SOFSOCN12A8C143F5D</td>\n",
       "      <td>Face the Ashes</td>\n",
       "      <td>209.60608</td>\n",
       "      <td>2007</td>\n",
       "    </tr>\n",
       "    <tr>\n",
       "      <th>0</th>\n",
       "      <td>1</td>\n",
       "      <td>AR10USD1187B99F3F1</td>\n",
       "      <td>NaN</td>\n",
       "      <td>NaN</td>\n",
       "      <td>Burlington, Ontario, Canada</td>\n",
       "      <td>Tweeterfriendly Music</td>\n",
       "      <td>SOHKNRJ12A6701D1F8</td>\n",
       "      <td>Drop of Rain</td>\n",
       "      <td>189.57016</td>\n",
       "      <td>0</td>\n",
       "    </tr>\n",
       "    <tr>\n",
       "      <th>0</th>\n",
       "      <td>1</td>\n",
       "      <td>ARGSJW91187B9B1D6B</td>\n",
       "      <td>35.21962</td>\n",
       "      <td>-80.01955</td>\n",
       "      <td>North Carolina</td>\n",
       "      <td>JennyAnyKind</td>\n",
       "      <td>SOQHXMF12AB0182363</td>\n",
       "      <td>Young Boy Blues</td>\n",
       "      <td>218.77506</td>\n",
       "      <td>0</td>\n",
       "    </tr>\n",
       "  </tbody>\n",
       "</table>\n",
       "</div>"
      ],
      "text/plain": [
       "   num_songs           artist_id  artist_latitude  artist_longitude  \\\n",
       "0          1  AR7G5I41187FB4CE6C              NaN               NaN   \n",
       "0          1  AR8ZCNI1187B9A069B              NaN               NaN   \n",
       "0          1  ARXR32B1187FB57099              NaN               NaN   \n",
       "0          1  AR10USD1187B99F3F1              NaN               NaN   \n",
       "0          1  ARGSJW91187B9B1D6B         35.21962         -80.01955   \n",
       "\n",
       "               artist_location            artist_name             song_id  \\\n",
       "0              London, England               Adam Ant  SONHOTT12A8C13493C   \n",
       "0                                    Planet P Project  SOIAZJW12AB01853F1   \n",
       "0                                                 Gob  SOFSOCN12A8C143F5D   \n",
       "0  Burlington, Ontario, Canada  Tweeterfriendly Music  SOHKNRJ12A6701D1F8   \n",
       "0               North Carolina           JennyAnyKind  SOQHXMF12AB0182363   \n",
       "\n",
       "             title   duration  year  \n",
       "0  Something Girls  233.40363  1982  \n",
       "0       Pink World  269.81832  1984  \n",
       "0   Face the Ashes  209.60608  2007  \n",
       "0     Drop of Rain  189.57016     0  \n",
       "0  Young Boy Blues  218.77506     0  "
      ]
     },
     "execution_count": 5,
     "metadata": {},
     "output_type": "execute_result"
    }
   ],
   "source": [
    "df = pd.concat([pd.read_json(song_files[i], lines=True) for i in range(len(song_files))])\n",
    "df.head()"
   ]
  },
  {
   "cell_type": "markdown",
   "metadata": {
    "editable": true
   },
   "source": [
    "## #1: `songs` Table\n",
    "#### Extract Data for Songs Table\n",
    "- Select columns for song ID, title, artist ID, year, and duration\n",
    "- Use `df.values` to select just the values from the dataframe\n",
    "- Index to select the first (only) record in the dataframe\n",
    "- Convert the array to a list and set it to `song_data`"
   ]
  },
  {
   "cell_type": "code",
   "execution_count": 6,
   "metadata": {
    "editable": true
   },
   "outputs": [],
   "source": [
    "song_id = 6\n",
    "title = 7\n",
    "artist_id = 1\n",
    "year = 9\n",
    "duration = 8\n",
    "song_data = df.to_numpy()[:,[song_id, title, artist_id, year, duration]]"
   ]
  },
  {
   "cell_type": "markdown",
   "metadata": {},
   "source": [
    "duration   =   NUMERIC(precision, scale)"
   ]
  },
  {
   "cell_type": "markdown",
   "metadata": {
    "editable": true
   },
   "source": [
    "#### Insert Record into Song Table\n",
    "Implement the `song_table_insert` query in `sql_queries.py` and run the cell below to insert a record for this song into the `songs` table. Remember to run `create_tables.py` before running the cell below to ensure you've created/resetted the `songs` table in the sparkify database."
   ]
  },
  {
   "cell_type": "code",
   "execution_count": 7,
   "metadata": {},
   "outputs": [],
   "source": [
    "song_table_insert = '''\n",
    "INSERT INTO songs (song_id, title, artist_id, year, duration)\n",
    "VALUES (%s, %s, %s, %s, %s);'''"
   ]
  },
  {
   "cell_type": "code",
   "execution_count": 8,
   "metadata": {},
   "outputs": [
    {
     "data": {
      "text/plain": [
       "array([['SOBCOSW12A8C13D398', 'Rumba De Barcelona', 'AR7SMBG1187B9B9066',\n",
       "        0, 218.38322]], dtype=object)"
      ]
     },
     "execution_count": 8,
     "metadata": {},
     "output_type": "execute_result"
    }
   ],
   "source": [
    "song_data[[71],:]\n"
   ]
  },
  {
   "cell_type": "code",
   "execution_count": 9,
   "metadata": {
    "editable": true
   },
   "outputs": [
    {
     "name": "stderr",
     "output_type": "stream",
     "text": [
      "100%|██████████| 72/72 [00:00<00:00, 1312.55it/s]"
     ]
    },
    {
     "name": "stdout",
     "output_type": "stream",
     "text": [
      "duplicate key value violates unique constraint \"songs_pkey\"\n",
      "DETAIL:  Key (song_id)=(SONHOTT12A8C13493C) already exists.\n",
      "\n",
      "['SONHOTT12A8C13493C' 'Something Girls' 'AR7G5I41187FB4CE6C' 1982\n",
      " 233.40363]\n",
      "duplicate key value violates unique constraint \"songs_pkey\"\n",
      "DETAIL:  Key (song_id)=(SOIAZJW12AB01853F1) already exists.\n",
      "\n",
      "['SOIAZJW12AB01853F1' 'Pink World' 'AR8ZCNI1187B9A069B' 1984 269.81832]\n",
      "duplicate key value violates unique constraint \"songs_pkey\"\n",
      "DETAIL:  Key (song_id)=(SOFSOCN12A8C143F5D) already exists.\n",
      "\n",
      "['SOFSOCN12A8C143F5D' 'Face the Ashes' 'ARXR32B1187FB57099' 2007 209.60608]\n",
      "duplicate key value violates unique constraint \"songs_pkey\"\n",
      "DETAIL:  Key (song_id)=(SOHKNRJ12A6701D1F8) already exists.\n",
      "\n",
      "['SOHKNRJ12A6701D1F8' 'Drop of Rain' 'AR10USD1187B99F3F1' 0 189.57016]\n",
      "duplicate key value violates unique constraint \"songs_pkey\"\n",
      "DETAIL:  Key (song_id)=(SOQHXMF12AB0182363) already exists.\n",
      "\n",
      "['SOQHXMF12AB0182363' 'Young Boy Blues' 'ARGSJW91187B9B1D6B' 0 218.77506]\n",
      "duplicate key value violates unique constraint \"songs_pkey\"\n",
      "DETAIL:  Key (song_id)=(SOCIWDW12A8C13D406) already exists.\n",
      "\n",
      "['SOCIWDW12A8C13D406' 'Soul Deep' 'ARMJAGH1187FB546F3' 1969 148.03546]\n",
      "duplicate key value violates unique constraint \"songs_pkey\"\n",
      "DETAIL:  Key (song_id)=(SOMZWCG12A8C13C480) already exists.\n",
      "\n",
      "['SOMZWCG12A8C13C480' \"I Didn't Mean To\" 'ARD7TVE1187B99BFB1' 0 218.93179]\n",
      "duplicate key value violates unique constraint \"songs_pkey\"\n",
      "DETAIL:  Key (song_id)=(SOXVLOJ12AB0189215) already exists.\n",
      "\n",
      "['SOXVLOJ12AB0189215' 'Amor De Cabaret' 'ARKRRTF1187B9984DA' 0 177.47546]\n",
      "duplicate key value violates unique constraint \"songs_pkey\"\n",
      "DETAIL:  Key (song_id)=(SOUDSGM12AC9618304) already exists.\n",
      "\n",
      "['SOUDSGM12AC9618304' 'Insatiable (Instrumental Version)'\n",
      " 'ARNTLGG11E2835DDB9' 0 266.39628]\n",
      "duplicate key value violates unique constraint \"songs_pkey\"\n",
      "DETAIL:  Key (song_id)=(SOYMRWW12A6D4FAB14) already exists.\n",
      "\n",
      "['SOYMRWW12A6D4FAB14' 'The Moon And I (Ordinary Day Album Version)'\n",
      " 'ARKFYS91187B98E58F' 0 267.7024]\n",
      "duplicate key value violates unique constraint \"songs_pkey\"\n",
      "DETAIL:  Key (song_id)=(SOMJBYD12A6D4F8557) already exists.\n",
      "\n",
      "['SOMJBYD12A6D4F8557' 'Keepin It Real (Skit)' 'ARD0S291187B9B7BF5' 0\n",
      " 114.78159]\n",
      "duplicate key value violates unique constraint \"songs_pkey\"\n",
      "DETAIL:  Key (song_id)=(SOVYKGO12AB0187199) already exists.\n",
      "\n",
      "['SOVYKGO12AB0187199' 'Crazy Mixed Up World' 'ARH4Z031187B9A71F2' 1961\n",
      " 156.39465]\n",
      "duplicate key value violates unique constraint \"songs_pkey\"\n",
      "DETAIL:  Key (song_id)=(SOGNCJP12A58A80271) already exists.\n",
      "\n",
      "['SOGNCJP12A58A80271' 'Do You Finally Need A Friend' 'ARB29H41187B98F0EF'\n",
      " 1972 342.56934]\n",
      "duplicate key value violates unique constraint \"songs_pkey\"\n",
      "DETAIL:  Key (song_id)=(SOGXHEG12AB018653E) already exists.\n",
      "\n",
      "['SOGXHEG12AB018653E' 'It Makes No Difference Now' 'AR0RCMP1187FB3F427'\n",
      " 1992 133.32853]\n",
      "duplicate key value violates unique constraint \"songs_pkey\"\n",
      "DETAIL:  Key (song_id)=(SOBLGCN12AB0183212) already exists.\n",
      "\n",
      "['SOBLGCN12AB0183212' 'James (Hold The Ladder Steady)'\n",
      " 'AR47JEX1187B995D81' 1985 124.86485]\n",
      "duplicate key value violates unique constraint \"songs_pkey\"\n",
      "DETAIL:  Key (song_id)=(SOZQDIU12A58A7BCF6) already exists.\n",
      "\n",
      "['SOZQDIU12A58A7BCF6' 'Superconfidential' 'ARNTLGG11E2835DDB9' 0 338.31138]\n",
      "duplicate key value violates unique constraint \"songs_pkey\"\n",
      "DETAIL:  Key (song_id)=(SOOLYAZ12A6701F4A6) already exists.\n",
      "\n",
      "['SOOLYAZ12A6701F4A6' 'Laws Patrolling (Album Version)'\n",
      " 'AREBBGV1187FB523D2' 0 173.66159]\n",
      "duplicate key value violates unique constraint \"songs_pkey\"\n",
      "DETAIL:  Key (song_id)=(SOBBUGU12A8C13E95D) already exists.\n",
      "\n",
      "['SOBBUGU12A8C13E95D' 'Setting Fire to Sleeping Giants'\n",
      " 'ARMAC4T1187FB3FA4C' 2004 207.77751]\n",
      "duplicate key value violates unique constraint \"songs_pkey\"\n",
      "DETAIL:  Key (song_id)=(SOYTPEP12AB0180E7B) already exists.\n",
      "\n",
      "['SOYTPEP12AB0180E7B' 'Twist and Shout' 'ARAJPHH1187FB5566A' 1964\n",
      " 164.80608]\n",
      "duplicate key value violates unique constraint \"songs_pkey\"\n",
      "DETAIL:  Key (song_id)=(SOPSWQW12A6D4F8781) already exists.\n",
      "\n",
      "['SOPSWQW12A6D4F8781' 'Made Like This (Live)' 'ARGIWFO1187B9B55B7' 0\n",
      " 225.09669]\n",
      "duplicate key value violates unique constraint \"songs_pkey\"\n",
      "DETAIL:  Key (song_id)=(SONYPOM12A8C13B2D7) already exists.\n",
      "\n",
      "['SONYPOM12A8C13B2D7'\n",
      " 'I Think My Wife Is Running Around On Me (Taco Hell)'\n",
      " 'ARDNS031187B9924F0' 2005 186.48771]\n",
      "duplicate key value violates unique constraint \"songs_pkey\"\n",
      "DETAIL:  Key (song_id)=(SOGOSOV12AF72A285E) already exists.\n",
      "\n",
      "['SOGOSOV12AF72A285E' '¿Dónde va Chichi?' 'ARGUVEV1187B98BA17' 1997\n",
      " 313.12934]\n",
      "duplicate key value violates unique constraint \"songs_pkey\"\n",
      "DETAIL:  Key (song_id)=(SOZCTXZ12AB0182364) already exists.\n",
      "\n",
      "['SOZCTXZ12AB0182364' 'Setanta matins' 'AR5KOSW1187FB35FF4' 0 269.58322]\n",
      "duplicate key value violates unique constraint \"songs_pkey\"\n",
      "DETAIL:  Key (song_id)=(SOLLHMX12AB01846DC) already exists.\n",
      "\n",
      "['SOLLHMX12AB01846DC' 'The Emperor Falls' 'AR1Y2PT1187FB5B9CE' 0 484.62322]\n",
      "duplicate key value violates unique constraint \"songs_pkey\"\n",
      "DETAIL:  Key (song_id)=(SOBZBAZ12A6D4F8742) already exists.\n",
      "\n",
      "['SOBZBAZ12A6D4F8742' 'Spanish Grease' 'AROUOZZ1187B9ABE51' 1997 168.25424]\n",
      "duplicate key value violates unique constraint \"songs_pkey\"\n",
      "DETAIL:  Key (song_id)=(SOMUYGI12AB0188633) already exists.\n",
      "\n",
      "['SOMUYGI12AB0188633' 'La Culpa' 'ARL7K851187B99ACD2' 0 226.35057]\n",
      "duplicate key value violates unique constraint \"songs_pkey\"\n",
      "DETAIL:  Key (song_id)=(SOZVMJI12AB01808AF) already exists.\n",
      "\n",
      "['SOZVMJI12AB01808AF' 'Synthetic Dream' 'ARNPAGP1241B9C7FD4' 0 165.69424]\n",
      "duplicate key value violates unique constraint \"songs_pkey\"\n",
      "DETAIL:  Key (song_id)=(SOWTBJW12AC468AC6E) already exists.\n",
      "\n",
      "['SOWTBJW12AC468AC6E' 'Broken-Down Merry-Go-Round' 'ARQGYP71187FB44566' 0\n",
      " 151.84934]\n",
      "duplicate key value violates unique constraint \"songs_pkey\"\n",
      "DETAIL:  Key (song_id)=(SOUQQEA12A8C134B1B) already exists.\n",
      "\n",
      "['SOUQQEA12A8C134B1B' 'High Tide' 'ARIG6O41187B988BDD' 0 228.5971]\n",
      "duplicate key value violates unique constraint \"songs_pkey\"\n",
      "DETAIL:  Key (song_id)=(SORAMLE12AB017C8B0) already exists.\n",
      "\n",
      "['SORAMLE12AB017C8B0' 'Auguri Cha Cha' 'ARHHO3O1187B989413' 0 191.84281]\n",
      "duplicate key value violates unique constraint \"songs_pkey\"\n",
      "DETAIL:  Key (song_id)=(SOKEJEJ12A8C13E0D0) already exists.\n",
      "\n",
      "['SOKEJEJ12A8C13E0D0' 'The Urgency (LP Version)' 'ARC43071187B990240' 0\n",
      " 245.21098]\n",
      "duplicate key value violates unique constraint \"songs_pkey\"\n",
      "DETAIL:  Key (song_id)=(SOBEBDG12A58A76D60) already exists.\n",
      "\n",
      "['SOBEBDG12A58A76D60' 'Kassie Jones' 'ARI3BMM1187FB4255E' 0 220.78649]\n",
      "duplicate key value violates unique constraint \"songs_pkey\"\n",
      "DETAIL:  Key (song_id)=(SOBONFF12A6D4F84D8) already exists.\n",
      "\n",
      "['SOBONFF12A6D4F84D8' 'Tonight Will Be Alright' 'ARIK43K1187B9AE54C' 1986\n",
      " 307.3824]\n",
      "duplicate key value violates unique constraint \"songs_pkey\"\n",
      "DETAIL:  Key (song_id)=(SOHUOAP12A8AE488E9) already exists.\n",
      "\n",
      "['SOHUOAP12A8AE488E9' 'Floating' 'ARD842G1187B997376' 1987 491.12771]\n",
      "duplicate key value violates unique constraint \"songs_pkey\"\n",
      "DETAIL:  Key (song_id)=(SOILPQQ12AB017E82A) already exists.\n",
      "\n",
      "['SOILPQQ12AB017E82A' 'Sohna Nee Sohna Data' 'AR1ZHYZ1187FB3C717' 0\n",
      " 599.24853]\n",
      "duplicate key value violates unique constraint \"songs_pkey\"\n",
      "DETAIL:  Key (song_id)=(SOXLBJT12A8C140925) already exists.\n",
      "\n",
      "['SOXLBJT12A8C140925' 'Caught In A Dream' 'ARYKCQI1187FB3B18F' 2004\n",
      " 290.29832]\n",
      "duplicate key value violates unique constraint \"songs_pkey\"\n",
      "DETAIL:  Key (song_id)=(SOTTDKS12AB018D69B) already exists.\n",
      "\n",
      "['SOTTDKS12AB018D69B' 'It Wont Be Christmas' 'ARMBR4Y1187B9990EB' 0\n",
      " 241.47546]\n",
      "duplicate key value violates unique constraint \"songs_pkey\"\n",
      "DETAIL:  Key (song_id)=(SOZHPGD12A8C1394FE) already exists.\n",
      "\n",
      "['SOZHPGD12A8C1394FE' 'Baby Come To Me' 'AR9AWNF1187B9AB0B4' 0 236.93016]\n",
      "duplicate key value violates unique constraint \"songs_pkey\"\n",
      "DETAIL:  Key (song_id)=(SOMVWWT12A58A7AE05) already exists.\n",
      "\n",
      "['SOMVWWT12A58A7AE05' 'Knocked Out Of The Park' 'ARQ9BO41187FB5CF1F' 0\n",
      " 183.17016]\n",
      "duplicate key value violates unique constraint \"songs_pkey\"\n",
      "DETAIL:  Key (song_id)=(SOPVXLX12A8C1402D5) already exists.\n",
      "\n",
      "['SOPVXLX12A8C1402D5' 'Larger Than Life' 'AR3JMC51187B9AE49D' 1999\n",
      " 236.25098]\n",
      "duplicate key value violates unique constraint \"songs_pkey\"\n",
      "DETAIL:  Key (song_id)=(SOBBXLX12A58A79DDA) already exists.\n",
      "\n",
      "['SOBBXLX12A58A79DDA' 'Erica (2005 Digital Remaster)' 'AREDBBQ1187B98AFF5'\n",
      " 0 138.63138]\n",
      "duplicate key value violates unique constraint \"songs_pkey\"\n",
      "DETAIL:  Key (song_id)=(SOAOIBZ12AB01815BE) already exists.\n",
      "\n",
      "['SOAOIBZ12AB01815BE'\n",
      " 'I Hold Your Hand In Mine [Live At Royal Albert Hall]'\n",
      " 'ARPBNLO1187FB3D52F' 2000 43.36281]\n",
      "duplicate key value violates unique constraint \"songs_pkey\"\n",
      "DETAIL:  Key (song_id)=(SOQVMXR12A81C21483) already exists.\n",
      "\n",
      "['SOQVMXR12A81C21483' 'Salt In NYC' 'ARKULSX1187FB45F84' 0 424.12363]\n",
      "duplicate key value violates unique constraint \"songs_pkey\"\n",
      "DETAIL:  Key (song_id)=(SOSLAVG12A8C13397F) already exists.\n",
      "\n",
      "['SOSLAVG12A8C13397F' 'Den Pai Alo' 'AROGWRA122988FEE45' 0 243.82649]\n",
      "duplicate key value violates unique constraint \"songs_pkey\"\n",
      "DETAIL:  Key (song_id)=(SODUJBS12A8C132150) already exists.\n",
      "\n",
      "['SODUJBS12A8C132150' 'Wessex Loses a Bride' 'ARI2JSK1187FB496EF' 0\n",
      " 111.62077]\n",
      "duplicate key value violates unique constraint \"songs_pkey\"\n",
      "DETAIL:  Key (song_id)=(SOQLGFP12A58A7800E) already exists.\n",
      "\n",
      "['SOQLGFP12A58A7800E' 'OAKtown' 'ARD7TVE1187B99BFB1' 0 259.44771]\n",
      "duplicate key value violates unique constraint \"songs_pkey\"\n",
      "DETAIL:  Key (song_id)=(SOTUKVB12AB0181477) already exists.\n",
      "\n",
      "['SOTUKVB12AB0181477' 'Blessed Assurance' 'AR7ZKHQ1187B98DD73' 1993\n",
      " 270.602]\n",
      "duplicate key value violates unique constraint \"songs_pkey\"\n",
      "DETAIL:  Key (song_id)=(SODREIN12A58A7F2E5) already exists.\n",
      "\n",
      "['SODREIN12A58A7F2E5' 'A Whiter Shade Of Pale (Live @ Fillmore West)'\n",
      " 'ARLTWXK1187FB5A3F8' 0 326.00771]\n",
      "duplicate key value violates unique constraint \"songs_pkey\"\n",
      "DETAIL:  Key (song_id)=(SOSWKAV12AB018FC91) already exists.\n",
      "\n",
      "['SOSWKAV12AB018FC91' 'Midnight Star' 'ARULZCI1241B9C8611' 0 335.51628]\n",
      "duplicate key value violates unique constraint \"songs_pkey\"\n",
      "DETAIL:  Key (song_id)=(SOWQTQZ12A58A7B63E) already exists.\n",
      "\n",
      "['SOWQTQZ12A58A7B63E' 'Streets On Fire (Explicit Album Version)'\n",
      " 'ARPFHN61187FB575F6' 0 279.97995]\n",
      "duplicate key value violates unique constraint \"songs_pkey\"\n",
      "DETAIL:  Key (song_id)=(SOUPIRU12A6D4FA1E1) already exists.\n",
      "\n",
      "['SOUPIRU12A6D4FA1E1' 'Der Kleine Dompfaff' 'ARJIE2Y1187B994AB7' 0\n",
      " 152.92036]\n",
      "duplicate key value violates unique constraint \"songs_pkey\"\n",
      "DETAIL:  Key (song_id)=(SONSKXP12A8C13A2C9) already exists.\n",
      "\n",
      "['SONSKXP12A8C13A2C9' 'Native Soul' 'AR0IAWL1187B9A96D0' 2003 197.19791]\n",
      "duplicate key value violates unique constraint \"songs_pkey\"\n",
      "DETAIL:  Key (song_id)=(SORRZGD12A6310DBC3) already exists.\n",
      "\n",
      "['SORRZGD12A6310DBC3' 'Harajuku Girls' 'ARVBRGZ1187FB4675A' 2004 290.55955]\n",
      "duplicate key value violates unique constraint \"songs_pkey\"\n",
      "DETAIL:  Key (song_id)=(SOINLJW12A8C13314C) already exists.\n",
      "\n",
      "['SOINLJW12A8C13314C' 'City Slickers' 'AR8IEZO1187B99055E' 2008 149.86404]\n",
      "duplicate key value violates unique constraint \"songs_pkey\"\n",
      "DETAIL:  Key (song_id)=(SODAUVL12A8C13D184) already exists.\n",
      "\n",
      "['SODAUVL12A8C13D184' 'Prognosis' 'ARWB3G61187FB49404' 2000 363.85914]\n",
      "duplicate key value violates unique constraint \"songs_pkey\"\n",
      "DETAIL:  Key (song_id)=(SOLYIBD12A8C135045) already exists.\n",
      "\n",
      "['SOLYIBD12A8C135045' 'Music is what we love' 'AR051KA1187B98B2FF' 0\n",
      " 261.51138]\n",
      "duplicate key value violates unique constraint \"songs_pkey\"\n",
      "DETAIL:  Key (song_id)=(SOFCHDR12AB01866EF) already exists.\n",
      "\n",
      "['SOFCHDR12AB01866EF' 'Living Hell' 'AREVWGE1187B9B890A' 0 282.43546]\n",
      "duplicate key value violates unique constraint \"songs_pkey\"\n",
      "DETAIL:  Key (song_id)=(SONWXQJ12A8C134D94) already exists.\n",
      "\n",
      "['SONWXQJ12A8C134D94' 'The Ballad Of Sleeping Beauty' 'ARNF6401187FB57032'\n",
      " 1994 305.162]\n",
      "duplicate key value violates unique constraint \"songs_pkey\"\n",
      "DETAIL:  Key (song_id)=(SOGDBUF12A8C140FAA) already exists.\n",
      "\n",
      "['SOGDBUF12A8C140FAA' 'Intro' 'AR558FS1187FB45658' 2003 75.67628]\n",
      "duplicate key value violates unique constraint \"songs_pkey\"\n",
      "DETAIL:  Key (song_id)=(SOBKWDJ12A8C13B2F3) already exists.\n",
      "\n",
      "['SOBKWDJ12A8C13B2F3' 'Wild Rose (Back 2 Basics Mix)' 'AR36F9J1187FB406F1'\n",
      " 0 230.71302]\n",
      "duplicate key value violates unique constraint \"songs_pkey\"\n",
      "DETAIL:  Key (song_id)=(SOBCOSW12A8C13D398) already exists.\n",
      "\n",
      "['SOBCOSW12A8C13D398' 'Rumba De Barcelona' 'AR7SMBG1187B9B9066' 0\n",
      " 218.38322]\n",
      "duplicate key value violates unique constraint \"songs_pkey\"\n",
      "DETAIL:  Key (song_id)=(SOBAYLL12A8C138AF9) already exists.\n",
      "\n",
      "['SOBAYLL12A8C138AF9' 'Sono andati? Fingevo di dormire'\n",
      " 'ARDR4AC1187FB371A1' 0 511.16363]\n",
      "duplicate key value violates unique constraint \"songs_pkey\"\n",
      "DETAIL:  Key (song_id)=(SOOJPRH12A8C141995) already exists.\n",
      "\n",
      "['SOOJPRH12A8C141995' 'Loaded Like A Gun' 'ARBGXIG122988F409D' 0 173.19138]\n",
      "duplicate key value violates unique constraint \"songs_pkey\"\n",
      "DETAIL:  Key (song_id)=(SOPEGZN12AB0181B3D) already exists.\n",
      "\n",
      "['SOPEGZN12AB0181B3D' 'Get Your Head Stuck On Your Neck'\n",
      " 'AREDL271187FB40F44' 0 45.66159]\n",
      "duplicate key value violates unique constraint \"songs_pkey\"\n",
      "DETAIL:  Key (song_id)=(SOXILUQ12A58A7C72A) already exists.\n",
      "\n",
      "['SOXILUQ12A58A7C72A' 'Jenny Take a Ride' 'ARP6N5A1187B99D1A3' 2004\n",
      " 207.43791]\n",
      "duplicate key value violates unique constraint \"songs_pkey\"\n",
      "DETAIL:  Key (song_id)=(SOTCKKY12AB018A141) already exists.\n",
      "\n",
      "['SOTCKKY12AB018A141' 'Sonnerie lalaleulé hi houuu' 'ARGSAFR1269FB35070' 0\n",
      " 29.54404]\n",
      "duplicate key value violates unique constraint \"songs_pkey\"\n",
      "DETAIL:  Key (song_id)=(SOLEYHO12AB0188A85) already exists.\n",
      "\n",
      "['SOLEYHO12AB0188A85' 'Got My Mojo Workin' 'ARAGB2O1187FB3A161' 0\n",
      " 338.23302]\n",
      "duplicate key value violates unique constraint \"songs_pkey\"\n",
      "DETAIL:  Key (song_id)=(SOGVQGJ12AB017F169) already exists.\n",
      "\n",
      "['SOGVQGJ12AB017F169' 'Ten Tonne' 'AR62SOJ1187FB47BB5' 2005 337.68444]\n",
      "duplicate key value violates unique constraint \"songs_pkey\"\n",
      "DETAIL:  Key (song_id)=(SOFFKZS12AB017F194) already exists.\n",
      "\n",
      "['SOFFKZS12AB017F194' 'A Higher Place (Album Version)'\n",
      " 'ARBEBBY1187B9B43DB' 1994 236.17261]\n",
      "duplicate key value violates unique constraint \"songs_pkey\"\n",
      "DETAIL:  Key (song_id)=(SOFNOQK12AB01840FC) already exists.\n",
      "\n",
      "['SOFNOQK12AB01840FC' 'Kutt Free (DJ Volume Remix)' 'ARNNKDK1187B98BBD5' 0\n",
      " 407.37914]\n",
      "duplicate key value violates unique constraint \"songs_pkey\"\n",
      "DETAIL:  Key (song_id)=(SOQOTLQ12AB01868D0) already exists.\n",
      "\n",
      "['SOQOTLQ12AB01868D0' 'Clementina Santafè' 'ARGCY1Y1187B9A4FA5' 0\n",
      " 153.33832]\n",
      "duplicate key value violates unique constraint \"songs_pkey\"\n",
      "DETAIL:  Key (song_id)=(SOBCOSW12A8C13D398) already exists.\n",
      "\n",
      "['SOBCOSW12A8C13D398' 'Rumba De Barcelona' 'AR7SMBG1187B9B9066' 0\n",
      " 218.38322]\n"
     ]
    },
    {
     "name": "stderr",
     "output_type": "stream",
     "text": [
      "\n"
     ]
    }
   ],
   "source": [
    "for song in tqdm(song_data):\n",
    "    try:\n",
    "        cur.execute(song_table_insert, song)\n",
    "    except psycopg2.errors.UniqueViolation as err:\n",
    "        print(err)\n",
    "        print(song)\n",
    "    # conn.commit()  # autocommit on"
   ]
  },
  {
   "cell_type": "markdown",
   "metadata": {},
   "source": [
    "Found a duplicate entry."
   ]
  },
  {
   "cell_type": "markdown",
   "metadata": {
    "editable": true
   },
   "source": [
    "Run `test.ipynb` to see if you've successfully added a record to this table.\n",
    "\n",
    "### I'm testing using an SQL client locally so no need."
   ]
  },
  {
   "cell_type": "markdown",
   "metadata": {
    "editable": true
   },
   "source": [
    "## #2: `artists` Table\n",
    "#### Extract Data for Artists Table\n",
    "- Select columns for artist ID, name, location, latitude, and longitude\n",
    "- Use `df.values` to select just the values from the dataframe\n",
    "- Index to select the first (only) record in the dataframe\n",
    "- Convert the array to a list and set it to `artist_data`"
   ]
  },
  {
   "cell_type": "code",
   "execution_count": 10,
   "metadata": {},
   "outputs": [
    {
     "data": {
      "text/html": [
       "<div>\n",
       "<style scoped>\n",
       "    .dataframe tbody tr th:only-of-type {\n",
       "        vertical-align: middle;\n",
       "    }\n",
       "\n",
       "    .dataframe tbody tr th {\n",
       "        vertical-align: top;\n",
       "    }\n",
       "\n",
       "    .dataframe thead th {\n",
       "        text-align: right;\n",
       "    }\n",
       "</style>\n",
       "<table border=\"1\" class=\"dataframe\">\n",
       "  <thead>\n",
       "    <tr style=\"text-align: right;\">\n",
       "      <th></th>\n",
       "      <th>num_songs</th>\n",
       "      <th>artist_id</th>\n",
       "      <th>artist_latitude</th>\n",
       "      <th>artist_longitude</th>\n",
       "      <th>artist_location</th>\n",
       "      <th>artist_name</th>\n",
       "      <th>song_id</th>\n",
       "      <th>title</th>\n",
       "      <th>duration</th>\n",
       "      <th>year</th>\n",
       "    </tr>\n",
       "  </thead>\n",
       "  <tbody>\n",
       "    <tr>\n",
       "      <th>0</th>\n",
       "      <td>1</td>\n",
       "      <td>AR7G5I41187FB4CE6C</td>\n",
       "      <td>NaN</td>\n",
       "      <td>NaN</td>\n",
       "      <td>London, England</td>\n",
       "      <td>Adam Ant</td>\n",
       "      <td>SONHOTT12A8C13493C</td>\n",
       "      <td>Something Girls</td>\n",
       "      <td>233.40363</td>\n",
       "      <td>1982</td>\n",
       "    </tr>\n",
       "    <tr>\n",
       "      <th>0</th>\n",
       "      <td>1</td>\n",
       "      <td>AR8ZCNI1187B9A069B</td>\n",
       "      <td>NaN</td>\n",
       "      <td>NaN</td>\n",
       "      <td></td>\n",
       "      <td>Planet P Project</td>\n",
       "      <td>SOIAZJW12AB01853F1</td>\n",
       "      <td>Pink World</td>\n",
       "      <td>269.81832</td>\n",
       "      <td>1984</td>\n",
       "    </tr>\n",
       "    <tr>\n",
       "      <th>0</th>\n",
       "      <td>1</td>\n",
       "      <td>ARXR32B1187FB57099</td>\n",
       "      <td>NaN</td>\n",
       "      <td>NaN</td>\n",
       "      <td></td>\n",
       "      <td>Gob</td>\n",
       "      <td>SOFSOCN12A8C143F5D</td>\n",
       "      <td>Face the Ashes</td>\n",
       "      <td>209.60608</td>\n",
       "      <td>2007</td>\n",
       "    </tr>\n",
       "    <tr>\n",
       "      <th>0</th>\n",
       "      <td>1</td>\n",
       "      <td>AR10USD1187B99F3F1</td>\n",
       "      <td>NaN</td>\n",
       "      <td>NaN</td>\n",
       "      <td>Burlington, Ontario, Canada</td>\n",
       "      <td>Tweeterfriendly Music</td>\n",
       "      <td>SOHKNRJ12A6701D1F8</td>\n",
       "      <td>Drop of Rain</td>\n",
       "      <td>189.57016</td>\n",
       "      <td>0</td>\n",
       "    </tr>\n",
       "    <tr>\n",
       "      <th>0</th>\n",
       "      <td>1</td>\n",
       "      <td>ARGSJW91187B9B1D6B</td>\n",
       "      <td>35.21962</td>\n",
       "      <td>-80.01955</td>\n",
       "      <td>North Carolina</td>\n",
       "      <td>JennyAnyKind</td>\n",
       "      <td>SOQHXMF12AB0182363</td>\n",
       "      <td>Young Boy Blues</td>\n",
       "      <td>218.77506</td>\n",
       "      <td>0</td>\n",
       "    </tr>\n",
       "  </tbody>\n",
       "</table>\n",
       "</div>"
      ],
      "text/plain": [
       "   num_songs           artist_id  artist_latitude  artist_longitude  \\\n",
       "0          1  AR7G5I41187FB4CE6C              NaN               NaN   \n",
       "0          1  AR8ZCNI1187B9A069B              NaN               NaN   \n",
       "0          1  ARXR32B1187FB57099              NaN               NaN   \n",
       "0          1  AR10USD1187B99F3F1              NaN               NaN   \n",
       "0          1  ARGSJW91187B9B1D6B         35.21962         -80.01955   \n",
       "\n",
       "               artist_location            artist_name             song_id  \\\n",
       "0              London, England               Adam Ant  SONHOTT12A8C13493C   \n",
       "0                                    Planet P Project  SOIAZJW12AB01853F1   \n",
       "0                                                 Gob  SOFSOCN12A8C143F5D   \n",
       "0  Burlington, Ontario, Canada  Tweeterfriendly Music  SOHKNRJ12A6701D1F8   \n",
       "0               North Carolina           JennyAnyKind  SOQHXMF12AB0182363   \n",
       "\n",
       "             title   duration  year  \n",
       "0  Something Girls  233.40363  1982  \n",
       "0       Pink World  269.81832  1984  \n",
       "0   Face the Ashes  209.60608  2007  \n",
       "0     Drop of Rain  189.57016     0  \n",
       "0  Young Boy Blues  218.77506     0  "
      ]
     },
     "execution_count": 10,
     "metadata": {},
     "output_type": "execute_result"
    }
   ],
   "source": [
    "df.head()"
   ]
  },
  {
   "cell_type": "code",
   "execution_count": 11,
   "metadata": {},
   "outputs": [
    {
     "data": {
      "text/plain": [
       "num_songs            0\n",
       "artist_id            0\n",
       "artist_latitude     41\n",
       "artist_longitude    41\n",
       "artist_location      0\n",
       "artist_name          0\n",
       "song_id              0\n",
       "title                0\n",
       "duration             0\n",
       "year                 0\n",
       "dtype: int64"
      ]
     },
     "execution_count": 11,
     "metadata": {},
     "output_type": "execute_result"
    }
   ],
   "source": [
    "df.isnull().sum(axis = 0)"
   ]
  },
  {
   "cell_type": "code",
   "execution_count": 12,
   "metadata": {},
   "outputs": [],
   "source": [
    "artist_id = 1\n",
    "name = 5\n",
    "location = 4\n",
    "latitude = 2\n",
    "longitude = 3\n",
    "artist_data = df.to_numpy()[:,[artist_id, name, location, latitude, longitude]]"
   ]
  },
  {
   "cell_type": "markdown",
   "metadata": {
    "editable": true
   },
   "source": [
    "#### Insert Record into Artist Table\n",
    "Implement the `artist_table_insert` query in `sql_queries.py` and run the cell below to insert a record for this song's artist into the `artists` table. Remember to run `create_tables.py` before running the cell below to ensure you've created/resetted the `artists` table in the sparkify database."
   ]
  },
  {
   "cell_type": "code",
   "execution_count": 13,
   "metadata": {},
   "outputs": [
    {
     "name": "stderr",
     "output_type": "stream",
     "text": [
      "100%|██████████| 72/72 [00:00<00:00, 6448.78it/s]\n"
     ]
    }
   ],
   "source": [
    "for artist in tqdm(artist_data):\n",
    "    try:\n",
    "        if pd.isna(artist[3]):\n",
    "            artist[3] = None\n",
    "        if pd.isna(artist[4]):\n",
    "            artist[4] = None\n",
    "        cur.execute(artist_table_insert, artist)\n",
    "    except psycopg2.errors.UniqueViolation as err:\n",
    "        print(err)\n",
    "        print(artist)"
   ]
  },
  {
   "cell_type": "markdown",
   "metadata": {
    "editable": true
   },
   "source": [
    "Run `test.ipynb` to see if you've successfully added a record to this table."
   ]
  },
  {
   "cell_type": "markdown",
   "metadata": {},
   "source": [
    "> TESTED LOCALLY"
   ]
  },
  {
   "cell_type": "markdown",
   "metadata": {
    "editable": true
   },
   "source": [
    "# Process `log_data`\n",
    "In this part, you'll perform ETL on the second dataset, `log_data`, to create the `time` and `users` dimensional tables, as well as the `songplays` fact table.\n",
    "\n",
    "Let's perform ETL on a single log file and load a single record into each table.\n",
    "- Use the `get_files` function provided above to get a list of all log JSON files in `data/log_data`\n",
    "- Select the first log file in this list\n",
    "- Read the log file and view the data"
   ]
  },
  {
   "cell_type": "code",
   "execution_count": 14,
   "metadata": {
    "editable": true
   },
   "outputs": [],
   "source": [
    "filepath = \"data/log_data\"\n",
    "logfiles = get_files(filepath)"
   ]
  },
  {
   "cell_type": "code",
   "execution_count": 15,
   "metadata": {
    "editable": true
   },
   "outputs": [
    {
     "data": {
      "text/html": [
       "<div>\n",
       "<style scoped>\n",
       "    .dataframe tbody tr th:only-of-type {\n",
       "        vertical-align: middle;\n",
       "    }\n",
       "\n",
       "    .dataframe tbody tr th {\n",
       "        vertical-align: top;\n",
       "    }\n",
       "\n",
       "    .dataframe thead th {\n",
       "        text-align: right;\n",
       "    }\n",
       "</style>\n",
       "<table border=\"1\" class=\"dataframe\">\n",
       "  <thead>\n",
       "    <tr style=\"text-align: right;\">\n",
       "      <th></th>\n",
       "      <th>artist</th>\n",
       "      <th>auth</th>\n",
       "      <th>firstName</th>\n",
       "      <th>gender</th>\n",
       "      <th>itemInSession</th>\n",
       "      <th>lastName</th>\n",
       "      <th>length</th>\n",
       "      <th>level</th>\n",
       "      <th>location</th>\n",
       "      <th>method</th>\n",
       "      <th>page</th>\n",
       "      <th>registration</th>\n",
       "      <th>sessionId</th>\n",
       "      <th>song</th>\n",
       "      <th>status</th>\n",
       "      <th>ts</th>\n",
       "      <th>userAgent</th>\n",
       "      <th>userId</th>\n",
       "    </tr>\n",
       "  </thead>\n",
       "  <tbody>\n",
       "    <tr>\n",
       "      <th>0</th>\n",
       "      <td>Frumpies</td>\n",
       "      <td>Logged In</td>\n",
       "      <td>Anabelle</td>\n",
       "      <td>F</td>\n",
       "      <td>0</td>\n",
       "      <td>Simpson</td>\n",
       "      <td>134.47791</td>\n",
       "      <td>free</td>\n",
       "      <td>Philadelphia-Camden-Wilmington, PA-NJ-DE-MD</td>\n",
       "      <td>PUT</td>\n",
       "      <td>NextSong</td>\n",
       "      <td>1.541044e+12</td>\n",
       "      <td>455</td>\n",
       "      <td>Fuck Kitty</td>\n",
       "      <td>200</td>\n",
       "      <td>1541903636796</td>\n",
       "      <td>\"Mozilla/5.0 (Macintosh; Intel Mac OS X 10_9_4...</td>\n",
       "      <td>69</td>\n",
       "    </tr>\n",
       "    <tr>\n",
       "      <th>1</th>\n",
       "      <td>Kenny G with Peabo Bryson</td>\n",
       "      <td>Logged In</td>\n",
       "      <td>Anabelle</td>\n",
       "      <td>F</td>\n",
       "      <td>1</td>\n",
       "      <td>Simpson</td>\n",
       "      <td>264.75057</td>\n",
       "      <td>free</td>\n",
       "      <td>Philadelphia-Camden-Wilmington, PA-NJ-DE-MD</td>\n",
       "      <td>PUT</td>\n",
       "      <td>NextSong</td>\n",
       "      <td>1.541044e+12</td>\n",
       "      <td>455</td>\n",
       "      <td>By The Time This Night Is Over</td>\n",
       "      <td>200</td>\n",
       "      <td>1541903770796</td>\n",
       "      <td>\"Mozilla/5.0 (Macintosh; Intel Mac OS X 10_9_4...</td>\n",
       "      <td>69</td>\n",
       "    </tr>\n",
       "    <tr>\n",
       "      <th>2</th>\n",
       "      <td>Biffy Clyro</td>\n",
       "      <td>Logged In</td>\n",
       "      <td>Anabelle</td>\n",
       "      <td>F</td>\n",
       "      <td>2</td>\n",
       "      <td>Simpson</td>\n",
       "      <td>189.83138</td>\n",
       "      <td>free</td>\n",
       "      <td>Philadelphia-Camden-Wilmington, PA-NJ-DE-MD</td>\n",
       "      <td>PUT</td>\n",
       "      <td>NextSong</td>\n",
       "      <td>1.541044e+12</td>\n",
       "      <td>455</td>\n",
       "      <td>God &amp; Satan</td>\n",
       "      <td>200</td>\n",
       "      <td>1541904034796</td>\n",
       "      <td>\"Mozilla/5.0 (Macintosh; Intel Mac OS X 10_9_4...</td>\n",
       "      <td>69</td>\n",
       "    </tr>\n",
       "    <tr>\n",
       "      <th>3</th>\n",
       "      <td>None</td>\n",
       "      <td>Logged In</td>\n",
       "      <td>Lily</td>\n",
       "      <td>F</td>\n",
       "      <td>0</td>\n",
       "      <td>Burns</td>\n",
       "      <td>NaN</td>\n",
       "      <td>free</td>\n",
       "      <td>New York-Newark-Jersey City, NY-NJ-PA</td>\n",
       "      <td>GET</td>\n",
       "      <td>Home</td>\n",
       "      <td>1.540621e+12</td>\n",
       "      <td>456</td>\n",
       "      <td>None</td>\n",
       "      <td>200</td>\n",
       "      <td>1541910841796</td>\n",
       "      <td>\"Mozilla/5.0 (Windows NT 6.1; WOW64) AppleWebK...</td>\n",
       "      <td>32</td>\n",
       "    </tr>\n",
       "    <tr>\n",
       "      <th>4</th>\n",
       "      <td>HIM</td>\n",
       "      <td>Logged In</td>\n",
       "      <td>Lily</td>\n",
       "      <td>F</td>\n",
       "      <td>1</td>\n",
       "      <td>Burns</td>\n",
       "      <td>212.06159</td>\n",
       "      <td>free</td>\n",
       "      <td>New York-Newark-Jersey City, NY-NJ-PA</td>\n",
       "      <td>PUT</td>\n",
       "      <td>NextSong</td>\n",
       "      <td>1.540621e+12</td>\n",
       "      <td>456</td>\n",
       "      <td>Beautiful</td>\n",
       "      <td>200</td>\n",
       "      <td>1541910973796</td>\n",
       "      <td>\"Mozilla/5.0 (Windows NT 6.1; WOW64) AppleWebK...</td>\n",
       "      <td>32</td>\n",
       "    </tr>\n",
       "  </tbody>\n",
       "</table>\n",
       "</div>"
      ],
      "text/plain": [
       "                      artist       auth firstName gender  itemInSession  \\\n",
       "0                   Frumpies  Logged In  Anabelle      F              0   \n",
       "1  Kenny G with Peabo Bryson  Logged In  Anabelle      F              1   \n",
       "2                Biffy Clyro  Logged In  Anabelle      F              2   \n",
       "3                       None  Logged In      Lily      F              0   \n",
       "4                        HIM  Logged In      Lily      F              1   \n",
       "\n",
       "  lastName     length level                                     location  \\\n",
       "0  Simpson  134.47791  free  Philadelphia-Camden-Wilmington, PA-NJ-DE-MD   \n",
       "1  Simpson  264.75057  free  Philadelphia-Camden-Wilmington, PA-NJ-DE-MD   \n",
       "2  Simpson  189.83138  free  Philadelphia-Camden-Wilmington, PA-NJ-DE-MD   \n",
       "3    Burns        NaN  free        New York-Newark-Jersey City, NY-NJ-PA   \n",
       "4    Burns  212.06159  free        New York-Newark-Jersey City, NY-NJ-PA   \n",
       "\n",
       "  method      page  registration  sessionId                            song  \\\n",
       "0    PUT  NextSong  1.541044e+12        455                      Fuck Kitty   \n",
       "1    PUT  NextSong  1.541044e+12        455  By The Time This Night Is Over   \n",
       "2    PUT  NextSong  1.541044e+12        455                     God & Satan   \n",
       "3    GET      Home  1.540621e+12        456                            None   \n",
       "4    PUT  NextSong  1.540621e+12        456                       Beautiful   \n",
       "\n",
       "   status             ts                                          userAgent  \\\n",
       "0     200  1541903636796  \"Mozilla/5.0 (Macintosh; Intel Mac OS X 10_9_4...   \n",
       "1     200  1541903770796  \"Mozilla/5.0 (Macintosh; Intel Mac OS X 10_9_4...   \n",
       "2     200  1541904034796  \"Mozilla/5.0 (Macintosh; Intel Mac OS X 10_9_4...   \n",
       "3     200  1541910841796  \"Mozilla/5.0 (Windows NT 6.1; WOW64) AppleWebK...   \n",
       "4     200  1541910973796  \"Mozilla/5.0 (Windows NT 6.1; WOW64) AppleWebK...   \n",
       "\n",
       "  userId  \n",
       "0     69  \n",
       "1     69  \n",
       "2     69  \n",
       "3     32  \n",
       "4     32  "
      ]
     },
     "execution_count": 15,
     "metadata": {},
     "output_type": "execute_result"
    }
   ],
   "source": [
    "df = pd.concat([pd.read_json(logfiles[i], lines=True) for i in range(len(logfiles))])\n",
    "df.head()"
   ]
  },
  {
   "cell_type": "code",
   "execution_count": 16,
   "metadata": {},
   "outputs": [
    {
     "data": {
      "text/plain": [
       "artist           1236\n",
       "auth                0\n",
       "firstName         286\n",
       "gender            286\n",
       "itemInSession       0\n",
       "lastName          286\n",
       "length           1236\n",
       "level               0\n",
       "location          286\n",
       "method              0\n",
       "page                0\n",
       "registration      286\n",
       "sessionId           0\n",
       "song             1236\n",
       "status              0\n",
       "ts                  0\n",
       "userAgent         286\n",
       "userId              0\n",
       "dtype: int64"
      ]
     },
     "execution_count": 16,
     "metadata": {},
     "output_type": "execute_result"
    }
   ],
   "source": [
    "df.isnull().sum(axis = 0)"
   ]
  },
  {
   "cell_type": "markdown",
   "metadata": {
    "editable": true
   },
   "source": [
    "## #3: `time` Table\n",
    "#### Extract Data for Time Table\n",
    "- Filter records by `NextSong` action\n",
    "- Convert the `ts` timestamp column to datetime\n",
    "  - Hint: the current timestamp is in milliseconds\n",
    "- Extract the timestamp, hour, day, week of year, month, year, and weekday from the `ts` column and set `time_data` to a list containing these values in order\n",
    "  - Hint: use pandas' [`dt` attribute](https://pandas.pydata.org/pandas-docs/stable/reference/api/pandas.Series.dt.html) to access easily datetimelike properties.\n",
    "- Specify labels for these columns and set to `column_labels`\n",
    "- Create a dataframe, `time_df,` containing the time data for this file by combining `column_labels` and `time_data` into a dictionary and converting this into a dataframe"
   ]
  },
  {
   "cell_type": "code",
   "execution_count": 17,
   "metadata": {},
   "outputs": [],
   "source": [
    "time_df = df.loc[df['page'] == 'NextSong']"
   ]
  },
  {
   "cell_type": "code",
   "execution_count": 18,
   "metadata": {},
   "outputs": [],
   "source": [
    "import datetime"
   ]
  },
  {
   "cell_type": "code",
   "execution_count": 19,
   "metadata": {},
   "outputs": [],
   "source": [
    "x = datetime.datetime.fromtimestamp(1541903636796/1000)"
   ]
  },
  {
   "cell_type": "code",
   "execution_count": 20,
   "metadata": {},
   "outputs": [
    {
     "data": {
      "text/html": [
       "<div>\n",
       "<style scoped>\n",
       "    .dataframe tbody tr th:only-of-type {\n",
       "        vertical-align: middle;\n",
       "    }\n",
       "\n",
       "    .dataframe tbody tr th {\n",
       "        vertical-align: top;\n",
       "    }\n",
       "\n",
       "    .dataframe thead th {\n",
       "        text-align: right;\n",
       "    }\n",
       "</style>\n",
       "<table border=\"1\" class=\"dataframe\">\n",
       "  <thead>\n",
       "    <tr style=\"text-align: right;\">\n",
       "      <th></th>\n",
       "      <th>artist</th>\n",
       "      <th>auth</th>\n",
       "      <th>firstName</th>\n",
       "      <th>gender</th>\n",
       "      <th>itemInSession</th>\n",
       "      <th>lastName</th>\n",
       "      <th>length</th>\n",
       "      <th>level</th>\n",
       "      <th>location</th>\n",
       "      <th>method</th>\n",
       "      <th>page</th>\n",
       "      <th>registration</th>\n",
       "      <th>sessionId</th>\n",
       "      <th>song</th>\n",
       "      <th>status</th>\n",
       "      <th>ts</th>\n",
       "      <th>userAgent</th>\n",
       "      <th>userId</th>\n",
       "    </tr>\n",
       "  </thead>\n",
       "  <tbody>\n",
       "    <tr>\n",
       "      <th>0</th>\n",
       "      <td>Frumpies</td>\n",
       "      <td>Logged In</td>\n",
       "      <td>Anabelle</td>\n",
       "      <td>F</td>\n",
       "      <td>0</td>\n",
       "      <td>Simpson</td>\n",
       "      <td>134.47791</td>\n",
       "      <td>free</td>\n",
       "      <td>Philadelphia-Camden-Wilmington, PA-NJ-DE-MD</td>\n",
       "      <td>PUT</td>\n",
       "      <td>NextSong</td>\n",
       "      <td>1.541044e+12</td>\n",
       "      <td>455</td>\n",
       "      <td>Fuck Kitty</td>\n",
       "      <td>200</td>\n",
       "      <td>1541903636796</td>\n",
       "      <td>\"Mozilla/5.0 (Macintosh; Intel Mac OS X 10_9_4...</td>\n",
       "      <td>69</td>\n",
       "    </tr>\n",
       "  </tbody>\n",
       "</table>\n",
       "</div>"
      ],
      "text/plain": [
       "     artist       auth firstName gender  itemInSession lastName     length  \\\n",
       "0  Frumpies  Logged In  Anabelle      F              0  Simpson  134.47791   \n",
       "\n",
       "  level                                     location method      page  \\\n",
       "0  free  Philadelphia-Camden-Wilmington, PA-NJ-DE-MD    PUT  NextSong   \n",
       "\n",
       "   registration  sessionId        song  status             ts  \\\n",
       "0  1.541044e+12        455  Fuck Kitty     200  1541903636796   \n",
       "\n",
       "                                           userAgent userId  \n",
       "0  \"Mozilla/5.0 (Macintosh; Intel Mac OS X 10_9_4...     69  "
      ]
     },
     "execution_count": 20,
     "metadata": {},
     "output_type": "execute_result"
    }
   ],
   "source": [
    "time_df.head(1)"
   ]
  },
  {
   "cell_type": "code",
   "execution_count": 21,
   "metadata": {},
   "outputs": [
    {
     "data": {
      "text/plain": [
       "array(['2018-11-10T21:33:56.796000000', '2018-11-10T21:36:10.796000000',\n",
       "       '2018-11-10T21:40:34.796000000', ...,\n",
       "       '2018-11-24T17:15:50.796000000', '2018-11-24T17:19:38.796000000',\n",
       "       '2018-11-24T18:46:14.796000000'], dtype='datetime64[ns]')"
      ]
     },
     "execution_count": 21,
     "metadata": {},
     "output_type": "execute_result"
    }
   ],
   "source": [
    "time_df['ts'].apply(lambda x: datetime.datetime.fromtimestamp(x/1000)).values"
   ]
  },
  {
   "cell_type": "code",
   "execution_count": 22,
   "metadata": {},
   "outputs": [
    {
     "name": "stderr",
     "output_type": "stream",
     "text": [
      "<ipython-input-22-859697071d7a>:1: SettingWithCopyWarning: \n",
      "A value is trying to be set on a copy of a slice from a DataFrame.\n",
      "Try using .loc[row_indexer,col_indexer] = value instead\n",
      "\n",
      "See the caveats in the documentation: https://pandas.pydata.org/pandas-docs/stable/user_guide/indexing.html#returning-a-view-versus-a-copy\n",
      "  time_df['ts'] = time_df['ts'].apply(lambda x: datetime.datetime.fromtimestamp(x/1000))\n"
     ]
    }
   ],
   "source": [
    "time_df['ts'] = time_df['ts'].apply(lambda x: datetime.datetime.fromtimestamp(x/1000))"
   ]
  },
  {
   "cell_type": "code",
   "execution_count": 23,
   "metadata": {},
   "outputs": [
    {
     "data": {
      "text/plain": [
       "6820"
      ]
     },
     "execution_count": 23,
     "metadata": {},
     "output_type": "execute_result"
    }
   ],
   "source": [
    "len(time_df)"
   ]
  },
  {
   "cell_type": "code",
   "execution_count": 24,
   "metadata": {},
   "outputs": [],
   "source": [
    "time_data = []\n",
    "for item in time_df.ts:\n",
    "    t = item\n",
    "    row = [\n",
    "        t.strftime(\"%Y-%m-%d %H:%M:%S\"),\n",
    "        t.hour,\n",
    "        t.day,\n",
    "        t.isocalendar()[1], # week of year\n",
    "        t.month,\n",
    "        t.year,\n",
    "        t.weekday()\n",
    "    ]\n",
    "    time_data.append(row)"
   ]
  },
  {
   "cell_type": "markdown",
   "metadata": {
    "editable": true
   },
   "source": [
    "#### Insert Records into Time Table\n",
    "Implement the `time_table_insert` query in `sql_queries.py` and run the cell below to insert records for the timestamps in this log file into the `time` table. Remember to run `create_tables.py` before running the cell below to ensure you've created/resetted the `time` table in the sparkify database."
   ]
  },
  {
   "cell_type": "code",
   "execution_count": 25,
   "metadata": {},
   "outputs": [
    {
     "data": {
      "text/plain": [
       "[['2018-11-07 20:28:18', 20, 7, 45, 11, 2018, 2],\n",
       " ['2018-11-07 20:30:55', 20, 7, 45, 11, 2018, 2],\n",
       " ['2018-11-07 20:35:35', 20, 7, 45, 11, 2018, 2],\n",
       " ['2018-11-07 20:38:19', 20, 7, 45, 11, 2018, 2],\n",
       " ['2018-11-07 20:39:40', 20, 7, 45, 11, 2018, 2]]"
      ]
     },
     "execution_count": 25,
     "metadata": {},
     "output_type": "execute_result"
    }
   ],
   "source": [
    "time_data[1000:1005]"
   ]
  },
  {
   "cell_type": "code",
   "execution_count": 26,
   "metadata": {},
   "outputs": [],
   "source": [
    "time_table_insert = \"\"\"\n",
    "INSERT INTO time(start_time, hour, day, week, month, year, weekday)\n",
    "values(%s, %s, %s, %s, %s, %s, %s);\n",
    "\"\"\""
   ]
  },
  {
   "cell_type": "code",
   "execution_count": 27,
   "metadata": {},
   "outputs": [
    {
     "name": "stderr",
     "output_type": "stream",
     "text": [
      "100%|██████████| 6820/6820 [00:01<00:00, 5514.65it/s]"
     ]
    },
    {
     "name": "stdout",
     "output_type": "stream",
     "text": [
      "6820\n"
     ]
    },
    {
     "name": "stderr",
     "output_type": "stream",
     "text": [
      "\n"
     ]
    }
   ],
   "source": [
    "count=0\n",
    "for t in tqdm(time_data):\n",
    "    try:\n",
    "        cur.execute(time_table_insert, t)\n",
    "    except psycopg2.errors.UniqueViolation as err:\n",
    "        count += 1\n",
    "#         print(err)\n",
    "#         print(t)\n",
    "print(count)"
   ]
  },
  {
   "cell_type": "markdown",
   "metadata": {
    "editable": true
   },
   "source": [
    "Run `test.ipynb` to see if you've successfully added records to this table."
   ]
  },
  {
   "cell_type": "markdown",
   "metadata": {
    "editable": true
   },
   "source": [
    "## #4: `users` Table\n",
    "#### Extract Data for Users Table\n",
    "- Select columns for user ID, first name, last name, gender and level and set to `user_df`"
   ]
  },
  {
   "cell_type": "code",
   "execution_count": 28,
   "metadata": {},
   "outputs": [
    {
     "data": {
      "text/html": [
       "<div>\n",
       "<style scoped>\n",
       "    .dataframe tbody tr th:only-of-type {\n",
       "        vertical-align: middle;\n",
       "    }\n",
       "\n",
       "    .dataframe tbody tr th {\n",
       "        vertical-align: top;\n",
       "    }\n",
       "\n",
       "    .dataframe thead th {\n",
       "        text-align: right;\n",
       "    }\n",
       "</style>\n",
       "<table border=\"1\" class=\"dataframe\">\n",
       "  <thead>\n",
       "    <tr style=\"text-align: right;\">\n",
       "      <th></th>\n",
       "      <th>artist</th>\n",
       "      <th>auth</th>\n",
       "      <th>firstName</th>\n",
       "      <th>gender</th>\n",
       "      <th>itemInSession</th>\n",
       "      <th>lastName</th>\n",
       "      <th>length</th>\n",
       "      <th>level</th>\n",
       "      <th>location</th>\n",
       "      <th>method</th>\n",
       "      <th>page</th>\n",
       "      <th>registration</th>\n",
       "      <th>sessionId</th>\n",
       "      <th>song</th>\n",
       "      <th>status</th>\n",
       "      <th>ts</th>\n",
       "      <th>userAgent</th>\n",
       "      <th>userId</th>\n",
       "    </tr>\n",
       "  </thead>\n",
       "  <tbody>\n",
       "    <tr>\n",
       "      <th>0</th>\n",
       "      <td>Frumpies</td>\n",
       "      <td>Logged In</td>\n",
       "      <td>Anabelle</td>\n",
       "      <td>F</td>\n",
       "      <td>0</td>\n",
       "      <td>Simpson</td>\n",
       "      <td>134.47791</td>\n",
       "      <td>free</td>\n",
       "      <td>Philadelphia-Camden-Wilmington, PA-NJ-DE-MD</td>\n",
       "      <td>PUT</td>\n",
       "      <td>NextSong</td>\n",
       "      <td>1.541044e+12</td>\n",
       "      <td>455</td>\n",
       "      <td>Fuck Kitty</td>\n",
       "      <td>200</td>\n",
       "      <td>1541903636796</td>\n",
       "      <td>\"Mozilla/5.0 (Macintosh; Intel Mac OS X 10_9_4...</td>\n",
       "      <td>69</td>\n",
       "    </tr>\n",
       "    <tr>\n",
       "      <th>1</th>\n",
       "      <td>Kenny G with Peabo Bryson</td>\n",
       "      <td>Logged In</td>\n",
       "      <td>Anabelle</td>\n",
       "      <td>F</td>\n",
       "      <td>1</td>\n",
       "      <td>Simpson</td>\n",
       "      <td>264.75057</td>\n",
       "      <td>free</td>\n",
       "      <td>Philadelphia-Camden-Wilmington, PA-NJ-DE-MD</td>\n",
       "      <td>PUT</td>\n",
       "      <td>NextSong</td>\n",
       "      <td>1.541044e+12</td>\n",
       "      <td>455</td>\n",
       "      <td>By The Time This Night Is Over</td>\n",
       "      <td>200</td>\n",
       "      <td>1541903770796</td>\n",
       "      <td>\"Mozilla/5.0 (Macintosh; Intel Mac OS X 10_9_4...</td>\n",
       "      <td>69</td>\n",
       "    </tr>\n",
       "  </tbody>\n",
       "</table>\n",
       "</div>"
      ],
      "text/plain": [
       "                      artist       auth firstName gender  itemInSession  \\\n",
       "0                   Frumpies  Logged In  Anabelle      F              0   \n",
       "1  Kenny G with Peabo Bryson  Logged In  Anabelle      F              1   \n",
       "\n",
       "  lastName     length level                                     location  \\\n",
       "0  Simpson  134.47791  free  Philadelphia-Camden-Wilmington, PA-NJ-DE-MD   \n",
       "1  Simpson  264.75057  free  Philadelphia-Camden-Wilmington, PA-NJ-DE-MD   \n",
       "\n",
       "  method      page  registration  sessionId                            song  \\\n",
       "0    PUT  NextSong  1.541044e+12        455                      Fuck Kitty   \n",
       "1    PUT  NextSong  1.541044e+12        455  By The Time This Night Is Over   \n",
       "\n",
       "   status             ts                                          userAgent  \\\n",
       "0     200  1541903636796  \"Mozilla/5.0 (Macintosh; Intel Mac OS X 10_9_4...   \n",
       "1     200  1541903770796  \"Mozilla/5.0 (Macintosh; Intel Mac OS X 10_9_4...   \n",
       "\n",
       "  userId  \n",
       "0     69  \n",
       "1     69  "
      ]
     },
     "execution_count": 28,
     "metadata": {},
     "output_type": "execute_result"
    }
   ],
   "source": [
    "df.head(2)"
   ]
  },
  {
   "cell_type": "code",
   "execution_count": 29,
   "metadata": {
    "editable": true
   },
   "outputs": [
    {
     "data": {
      "text/plain": [
       "8056"
      ]
     },
     "execution_count": 29,
     "metadata": {},
     "output_type": "execute_result"
    }
   ],
   "source": [
    "users_df = df[['userId', 'firstName', 'lastName', 'gender', 'level','ts']]\n",
    "len(users_df)"
   ]
  },
  {
   "cell_type": "code",
   "execution_count": 30,
   "metadata": {},
   "outputs": [],
   "source": [
    "users_df = df.loc[df['page'] == 'NextSong']"
   ]
  },
  {
   "cell_type": "code",
   "execution_count": 31,
   "metadata": {},
   "outputs": [
    {
     "data": {
      "text/plain": [
       "6820"
      ]
     },
     "execution_count": 31,
     "metadata": {},
     "output_type": "execute_result"
    }
   ],
   "source": [
    "len(users_df)"
   ]
  },
  {
   "cell_type": "markdown",
   "metadata": {},
   "source": [
    "# not needed\n",
    "remove users with \"\" as the id\n",
    "\n",
    "users_df = users_df.drop(users_df.loc[users_df['userId'] == \"\"].index)\n",
    "len(users_df)"
   ]
  },
  {
   "cell_type": "code",
   "execution_count": 32,
   "metadata": {},
   "outputs": [
    {
     "name": "stderr",
     "output_type": "stream",
     "text": [
      "<ipython-input-32-57a4ec296b3d>:4: SettingWithCopyWarning: \n",
      "A value is trying to be set on a copy of a slice from a DataFrame.\n",
      "Try using .loc[row_indexer,col_indexer] = value instead\n",
      "\n",
      "See the caveats in the documentation: https://pandas.pydata.org/pandas-docs/stable/user_guide/indexing.html#returning-a-view-versus-a-copy\n",
      "  users_df['userId'] = users_df['userId'].astype('int')\n"
     ]
    }
   ],
   "source": [
    "# make all user ids ints\n",
    "\n",
    "# users_df = users_df.replace([int(x) for x in users_df['userId'].values])\n",
    "users_df['userId'] = users_df['userId'].astype('int')"
   ]
  },
  {
   "cell_type": "markdown",
   "metadata": {
    "editable": true
   },
   "source": [
    "#### Insert Records into Users Table\n",
    "Implement the `user_table_insert` query in `sql_queries.py` and run the cell below to insert records for the users in this log file into the `users` table. Remember to run `create_tables.py` before running the cell below to ensure you've created/resetted the `users` table in the sparkify database."
   ]
  },
  {
   "cell_type": "code",
   "execution_count": 33,
   "metadata": {},
   "outputs": [
    {
     "data": {
      "text/html": [
       "<div>\n",
       "<style scoped>\n",
       "    .dataframe tbody tr th:only-of-type {\n",
       "        vertical-align: middle;\n",
       "    }\n",
       "\n",
       "    .dataframe tbody tr th {\n",
       "        vertical-align: top;\n",
       "    }\n",
       "\n",
       "    .dataframe thead th {\n",
       "        text-align: right;\n",
       "    }\n",
       "</style>\n",
       "<table border=\"1\" class=\"dataframe\">\n",
       "  <thead>\n",
       "    <tr style=\"text-align: right;\">\n",
       "      <th></th>\n",
       "      <th>artist</th>\n",
       "      <th>auth</th>\n",
       "      <th>firstName</th>\n",
       "      <th>gender</th>\n",
       "      <th>itemInSession</th>\n",
       "      <th>lastName</th>\n",
       "      <th>length</th>\n",
       "      <th>level</th>\n",
       "      <th>location</th>\n",
       "      <th>method</th>\n",
       "      <th>page</th>\n",
       "      <th>registration</th>\n",
       "      <th>sessionId</th>\n",
       "      <th>song</th>\n",
       "      <th>status</th>\n",
       "      <th>ts</th>\n",
       "      <th>userAgent</th>\n",
       "      <th>userId</th>\n",
       "    </tr>\n",
       "  </thead>\n",
       "  <tbody>\n",
       "    <tr>\n",
       "      <th>0</th>\n",
       "      <td>Frumpies</td>\n",
       "      <td>Logged In</td>\n",
       "      <td>Anabelle</td>\n",
       "      <td>F</td>\n",
       "      <td>0</td>\n",
       "      <td>Simpson</td>\n",
       "      <td>134.47791</td>\n",
       "      <td>free</td>\n",
       "      <td>Philadelphia-Camden-Wilmington, PA-NJ-DE-MD</td>\n",
       "      <td>PUT</td>\n",
       "      <td>NextSong</td>\n",
       "      <td>1.541044e+12</td>\n",
       "      <td>455</td>\n",
       "      <td>Fuck Kitty</td>\n",
       "      <td>200</td>\n",
       "      <td>1541903636796</td>\n",
       "      <td>\"Mozilla/5.0 (Macintosh; Intel Mac OS X 10_9_4...</td>\n",
       "      <td>69</td>\n",
       "    </tr>\n",
       "    <tr>\n",
       "      <th>1</th>\n",
       "      <td>Kenny G with Peabo Bryson</td>\n",
       "      <td>Logged In</td>\n",
       "      <td>Anabelle</td>\n",
       "      <td>F</td>\n",
       "      <td>1</td>\n",
       "      <td>Simpson</td>\n",
       "      <td>264.75057</td>\n",
       "      <td>free</td>\n",
       "      <td>Philadelphia-Camden-Wilmington, PA-NJ-DE-MD</td>\n",
       "      <td>PUT</td>\n",
       "      <td>NextSong</td>\n",
       "      <td>1.541044e+12</td>\n",
       "      <td>455</td>\n",
       "      <td>By The Time This Night Is Over</td>\n",
       "      <td>200</td>\n",
       "      <td>1541903770796</td>\n",
       "      <td>\"Mozilla/5.0 (Macintosh; Intel Mac OS X 10_9_4...</td>\n",
       "      <td>69</td>\n",
       "    </tr>\n",
       "    <tr>\n",
       "      <th>2</th>\n",
       "      <td>Biffy Clyro</td>\n",
       "      <td>Logged In</td>\n",
       "      <td>Anabelle</td>\n",
       "      <td>F</td>\n",
       "      <td>2</td>\n",
       "      <td>Simpson</td>\n",
       "      <td>189.83138</td>\n",
       "      <td>free</td>\n",
       "      <td>Philadelphia-Camden-Wilmington, PA-NJ-DE-MD</td>\n",
       "      <td>PUT</td>\n",
       "      <td>NextSong</td>\n",
       "      <td>1.541044e+12</td>\n",
       "      <td>455</td>\n",
       "      <td>God &amp; Satan</td>\n",
       "      <td>200</td>\n",
       "      <td>1541904034796</td>\n",
       "      <td>\"Mozilla/5.0 (Macintosh; Intel Mac OS X 10_9_4...</td>\n",
       "      <td>69</td>\n",
       "    </tr>\n",
       "    <tr>\n",
       "      <th>4</th>\n",
       "      <td>HIM</td>\n",
       "      <td>Logged In</td>\n",
       "      <td>Lily</td>\n",
       "      <td>F</td>\n",
       "      <td>1</td>\n",
       "      <td>Burns</td>\n",
       "      <td>212.06159</td>\n",
       "      <td>free</td>\n",
       "      <td>New York-Newark-Jersey City, NY-NJ-PA</td>\n",
       "      <td>PUT</td>\n",
       "      <td>NextSong</td>\n",
       "      <td>1.540621e+12</td>\n",
       "      <td>456</td>\n",
       "      <td>Beautiful</td>\n",
       "      <td>200</td>\n",
       "      <td>1541910973796</td>\n",
       "      <td>\"Mozilla/5.0 (Windows NT 6.1; WOW64) AppleWebK...</td>\n",
       "      <td>32</td>\n",
       "    </tr>\n",
       "    <tr>\n",
       "      <th>5</th>\n",
       "      <td>Matmos</td>\n",
       "      <td>Logged In</td>\n",
       "      <td>Joseph</td>\n",
       "      <td>M</td>\n",
       "      <td>0</td>\n",
       "      <td>Gutierrez</td>\n",
       "      <td>1449.11628</td>\n",
       "      <td>free</td>\n",
       "      <td>Columbia, SC</td>\n",
       "      <td>PUT</td>\n",
       "      <td>NextSong</td>\n",
       "      <td>1.540809e+12</td>\n",
       "      <td>284</td>\n",
       "      <td>Supreme Balloon</td>\n",
       "      <td>200</td>\n",
       "      <td>1541911006796</td>\n",
       "      <td>\"Mozilla/5.0 (Macintosh; Intel Mac OS X 10_9_3...</td>\n",
       "      <td>75</td>\n",
       "    </tr>\n",
       "  </tbody>\n",
       "</table>\n",
       "</div>"
      ],
      "text/plain": [
       "                      artist       auth firstName gender  itemInSession  \\\n",
       "0                   Frumpies  Logged In  Anabelle      F              0   \n",
       "1  Kenny G with Peabo Bryson  Logged In  Anabelle      F              1   \n",
       "2                Biffy Clyro  Logged In  Anabelle      F              2   \n",
       "4                        HIM  Logged In      Lily      F              1   \n",
       "5                     Matmos  Logged In    Joseph      M              0   \n",
       "\n",
       "    lastName      length level                                     location  \\\n",
       "0    Simpson   134.47791  free  Philadelphia-Camden-Wilmington, PA-NJ-DE-MD   \n",
       "1    Simpson   264.75057  free  Philadelphia-Camden-Wilmington, PA-NJ-DE-MD   \n",
       "2    Simpson   189.83138  free  Philadelphia-Camden-Wilmington, PA-NJ-DE-MD   \n",
       "4      Burns   212.06159  free        New York-Newark-Jersey City, NY-NJ-PA   \n",
       "5  Gutierrez  1449.11628  free                                 Columbia, SC   \n",
       "\n",
       "  method      page  registration  sessionId                            song  \\\n",
       "0    PUT  NextSong  1.541044e+12        455                      Fuck Kitty   \n",
       "1    PUT  NextSong  1.541044e+12        455  By The Time This Night Is Over   \n",
       "2    PUT  NextSong  1.541044e+12        455                     God & Satan   \n",
       "4    PUT  NextSong  1.540621e+12        456                       Beautiful   \n",
       "5    PUT  NextSong  1.540809e+12        284                 Supreme Balloon   \n",
       "\n",
       "   status             ts                                          userAgent  \\\n",
       "0     200  1541903636796  \"Mozilla/5.0 (Macintosh; Intel Mac OS X 10_9_4...   \n",
       "1     200  1541903770796  \"Mozilla/5.0 (Macintosh; Intel Mac OS X 10_9_4...   \n",
       "2     200  1541904034796  \"Mozilla/5.0 (Macintosh; Intel Mac OS X 10_9_4...   \n",
       "4     200  1541910973796  \"Mozilla/5.0 (Windows NT 6.1; WOW64) AppleWebK...   \n",
       "5     200  1541911006796  \"Mozilla/5.0 (Macintosh; Intel Mac OS X 10_9_3...   \n",
       "\n",
       "   userId  \n",
       "0      69  \n",
       "1      69  \n",
       "2      69  \n",
       "4      32  \n",
       "5      75  "
      ]
     },
     "execution_count": 33,
     "metadata": {},
     "output_type": "execute_result"
    }
   ],
   "source": [
    "users_df.head()"
   ]
  },
  {
   "cell_type": "code",
   "execution_count": 36,
   "metadata": {},
   "outputs": [
    {
     "name": "stderr",
     "output_type": "stream",
     "text": [
      "  0%|          | 0/6820 [00:00<?, ?it/s]\n"
     ]
    },
    {
     "ename": "ValueError",
     "evalue": "invalid literal for int() with base 10: 'Dim Chris_ Thomas Gold'",
     "output_type": "error",
     "traceback": [
      "\u001b[0;31m---------------------------------------------------------------------------\u001b[0m",
      "\u001b[0;31mValueError\u001b[0m                                Traceback (most recent call last)",
      "\u001b[0;32m<ipython-input-36-5db79bbf1458>\u001b[0m in \u001b[0;36m<module>\u001b[0;34m\u001b[0m\n\u001b[1;32m      5\u001b[0m         \u001b[0;32mcontinue\u001b[0m\u001b[0;34m\u001b[0m\u001b[0;34m\u001b[0m\u001b[0m\n\u001b[1;32m      6\u001b[0m     \u001b[0;32mtry\u001b[0m\u001b[0;34m:\u001b[0m\u001b[0;34m\u001b[0m\u001b[0;34m\u001b[0m\u001b[0m\n\u001b[0;32m----> 7\u001b[0;31m         \u001b[0mcur\u001b[0m\u001b[0;34m.\u001b[0m\u001b[0mexecute\u001b[0m\u001b[0;34m(\u001b[0m\u001b[0muser_table_insert\u001b[0m\u001b[0;34m,\u001b[0m \u001b[0mnp\u001b[0m\u001b[0;34m.\u001b[0m\u001b[0mconcatenate\u001b[0m\u001b[0;34m(\u001b[0m\u001b[0;34m(\u001b[0m\u001b[0;34m[\u001b[0m\u001b[0mint\u001b[0m\u001b[0;34m(\u001b[0m\u001b[0musers_df\u001b[0m\u001b[0;34m.\u001b[0m\u001b[0miloc\u001b[0m\u001b[0;34m[\u001b[0m\u001b[0mi\u001b[0m\u001b[0;34m]\u001b[0m\u001b[0;34m[\u001b[0m\u001b[0;36m0\u001b[0m\u001b[0;34m]\u001b[0m\u001b[0;34m)\u001b[0m\u001b[0;34m]\u001b[0m\u001b[0;34m,\u001b[0m\u001b[0musers_df\u001b[0m\u001b[0;34m.\u001b[0m\u001b[0miloc\u001b[0m\u001b[0;34m[\u001b[0m\u001b[0mi\u001b[0m\u001b[0;34m]\u001b[0m\u001b[0;34m[\u001b[0m\u001b[0;36m1\u001b[0m\u001b[0;34m:\u001b[0m\u001b[0;34m-\u001b[0m\u001b[0;36m1\u001b[0m\u001b[0;34m]\u001b[0m\u001b[0;34m,\u001b[0m \u001b[0musers_df\u001b[0m\u001b[0;34m.\u001b[0m\u001b[0miloc\u001b[0m\u001b[0;34m[\u001b[0m\u001b[0mi\u001b[0m\u001b[0;34m]\u001b[0m\u001b[0;34m[\u001b[0m\u001b[0;36m1\u001b[0m\u001b[0;34m:\u001b[0m\u001b[0;34m-\u001b[0m\u001b[0;36m1\u001b[0m\u001b[0;34m]\u001b[0m\u001b[0;34m)\u001b[0m\u001b[0;34m)\u001b[0m\u001b[0;34m)\u001b[0m\u001b[0;34m\u001b[0m\u001b[0;34m\u001b[0m\u001b[0m\n\u001b[0m\u001b[1;32m      8\u001b[0m         \u001b[0mcount\u001b[0m \u001b[0;34m+=\u001b[0m \u001b[0;36m1\u001b[0m\u001b[0;34m\u001b[0m\u001b[0;34m\u001b[0m\u001b[0m\n\u001b[1;32m      9\u001b[0m     \u001b[0;32mexcept\u001b[0m \u001b[0mpsycopg2\u001b[0m\u001b[0;34m.\u001b[0m\u001b[0merrors\u001b[0m\u001b[0;34m.\u001b[0m\u001b[0mUniqueViolation\u001b[0m \u001b[0;32mas\u001b[0m \u001b[0merr\u001b[0m\u001b[0;34m:\u001b[0m\u001b[0;34m\u001b[0m\u001b[0;34m\u001b[0m\u001b[0m\n",
      "\u001b[0;31mValueError\u001b[0m: invalid literal for int() with base 10: 'Dim Chris_ Thomas Gold'"
     ]
    }
   ],
   "source": [
    "count = 0\n",
    "for i in tqdm(range(len(users_df))):\n",
    "    # check for duplicates entrys so no need to UPSERT\n",
    "    if i < len(users_df.values)-1 and users_df.iloc[i][0] == users_df.iloc[i+1][0]:\n",
    "        continue\n",
    "    try:\n",
    "        cur.execute(user_table_insert, np.concatenate(([int(users_df.iloc[i][0])],users_df.iloc[i][1:-1], users_df.iloc[i][1:-1])))\n",
    "        count += 1\n",
    "    except psycopg2.errors.UniqueViolation as err:\n",
    "        print(err)\n",
    "        print(u)\n",
    "        \n",
    "print(count)\n"
   ]
  },
  {
   "cell_type": "code",
   "execution_count": 37,
   "metadata": {},
   "outputs": [
    {
     "data": {
      "text/html": [
       "<div>\n",
       "<style scoped>\n",
       "    .dataframe tbody tr th:only-of-type {\n",
       "        vertical-align: middle;\n",
       "    }\n",
       "\n",
       "    .dataframe tbody tr th {\n",
       "        vertical-align: top;\n",
       "    }\n",
       "\n",
       "    .dataframe thead th {\n",
       "        text-align: right;\n",
       "    }\n",
       "</style>\n",
       "<table border=\"1\" class=\"dataframe\">\n",
       "  <thead>\n",
       "    <tr style=\"text-align: right;\">\n",
       "      <th></th>\n",
       "      <th>artist</th>\n",
       "      <th>auth</th>\n",
       "      <th>firstName</th>\n",
       "      <th>gender</th>\n",
       "      <th>itemInSession</th>\n",
       "      <th>lastName</th>\n",
       "      <th>length</th>\n",
       "      <th>level</th>\n",
       "      <th>location</th>\n",
       "      <th>method</th>\n",
       "      <th>page</th>\n",
       "      <th>registration</th>\n",
       "      <th>sessionId</th>\n",
       "      <th>song</th>\n",
       "      <th>status</th>\n",
       "      <th>ts</th>\n",
       "      <th>userAgent</th>\n",
       "      <th>userId</th>\n",
       "    </tr>\n",
       "  </thead>\n",
       "  <tbody>\n",
       "    <tr>\n",
       "      <th>50</th>\n",
       "      <td>Dim Chris_ Thomas Gold</td>\n",
       "      <td>Logged In</td>\n",
       "      <td>Jizelle</td>\n",
       "      <td>F</td>\n",
       "      <td>0</td>\n",
       "      <td>Benjamin</td>\n",
       "      <td>504.60689</td>\n",
       "      <td>free</td>\n",
       "      <td>Plymouth, IN</td>\n",
       "      <td>PUT</td>\n",
       "      <td>NextSong</td>\n",
       "      <td>1.539909e+12</td>\n",
       "      <td>126</td>\n",
       "      <td>Self Control (Laurent Wolf &amp; Anton Wick)</td>\n",
       "      <td>200</td>\n",
       "      <td>1541519780796</td>\n",
       "      <td>\"Mozilla/5.0 (Windows NT 6.1; WOW64) AppleWebK...</td>\n",
       "      <td>2</td>\n",
       "    </tr>\n",
       "    <tr>\n",
       "      <th>55</th>\n",
       "      <td>Lupe Fiasco</td>\n",
       "      <td>Logged In</td>\n",
       "      <td>Jizelle</td>\n",
       "      <td>F</td>\n",
       "      <td>1</td>\n",
       "      <td>Benjamin</td>\n",
       "      <td>262.89587</td>\n",
       "      <td>free</td>\n",
       "      <td>Plymouth, IN</td>\n",
       "      <td>PUT</td>\n",
       "      <td>NextSong</td>\n",
       "      <td>1.539909e+12</td>\n",
       "      <td>126</td>\n",
       "      <td>Hurt Me Soul (Explicit Album Version)</td>\n",
       "      <td>200</td>\n",
       "      <td>1541520284796</td>\n",
       "      <td>\"Mozilla/5.0 (Windows NT 6.1; WOW64) AppleWebK...</td>\n",
       "      <td>2</td>\n",
       "    </tr>\n",
       "  </tbody>\n",
       "</table>\n",
       "</div>"
      ],
      "text/plain": [
       "                    artist       auth firstName gender  itemInSession  \\\n",
       "50  Dim Chris_ Thomas Gold  Logged In   Jizelle      F              0   \n",
       "55             Lupe Fiasco  Logged In   Jizelle      F              1   \n",
       "\n",
       "    lastName     length level      location method      page  registration  \\\n",
       "50  Benjamin  504.60689  free  Plymouth, IN    PUT  NextSong  1.539909e+12   \n",
       "55  Benjamin  262.89587  free  Plymouth, IN    PUT  NextSong  1.539909e+12   \n",
       "\n",
       "    sessionId                                      song  status  \\\n",
       "50        126  Self Control (Laurent Wolf & Anton Wick)     200   \n",
       "55        126     Hurt Me Soul (Explicit Album Version)     200   \n",
       "\n",
       "               ts                                          userAgent  userId  \n",
       "50  1541519780796  \"Mozilla/5.0 (Windows NT 6.1; WOW64) AppleWebK...       2  \n",
       "55  1541520284796  \"Mozilla/5.0 (Windows NT 6.1; WOW64) AppleWebK...       2  "
      ]
     },
     "execution_count": 37,
     "metadata": {},
     "output_type": "execute_result"
    }
   ],
   "source": [
    "users_df.head(2)"
   ]
  },
  {
   "cell_type": "code",
   "execution_count": 38,
   "metadata": {},
   "outputs": [],
   "source": [
    "users_df.drop(columns=['artist'],inplace=True)"
   ]
  },
  {
   "cell_type": "markdown",
   "metadata": {
    "editable": true
   },
   "source": [
    "Run `test.ipynb` to see if you've successfully added records to this table."
   ]
  },
  {
   "cell_type": "markdown",
   "metadata": {
    "editable": true
   },
   "source": [
    "## #5: `songplays` Table\n",
    "#### Extract Data and Songplays Table\n",
    "This one is a little more complicated since information from the songs table, artists table, and original log file are all needed for the `songplays` table. Since the log file does not specify an ID for either the song or the artist, you'll need to get the **song ID** and **artist ID** by querying the songs and artists tables to find matches based on:\n",
    "- song title\n",
    "- artist name\n",
    "- song duration time.\n",
    "\n",
    "- Implement the `song_select` query in `sql_queries.py` to find the song ID and artist ID based on the title, artist name, and duration of a song.\n",
    "- Select the timestamp, user ID, level, song ID, artist ID, session ID, location, and user agent and set to `songplay_data`\n",
    "\n",
    "#### Insert Records into Songplays Table\n",
    "- Implement the `songplay_table_insert` query and run the cell below to insert records for the songplay actions in this log file into the `songplays` table. Remember to run `create_tables.py` before running the cell below to ensure you've created/resetted the `songplays` table in the sparkify database."
   ]
  },
  {
   "cell_type": "code",
   "execution_count": 39,
   "metadata": {},
   "outputs": [
    {
     "name": "stdout",
     "output_type": "stream",
     "text": [
      "None\n"
     ]
    }
   ],
   "source": [
    "for _, row in df.iterrows():\n",
    "    \n",
    "    cur.execute(song_select, (row.song, row.artist, row.length))\n",
    "    results = cur.fetchone()\n",
    "    print(results)\n",
    "    break"
   ]
  },
  {
   "cell_type": "code",
   "execution_count": 40,
   "metadata": {},
   "outputs": [
    {
     "data": {
      "text/plain": [
       "('Fuck Kitty', 'Frumpies', 134.47791)"
      ]
     },
     "execution_count": 40,
     "metadata": {},
     "output_type": "execute_result"
    }
   ],
   "source": [
    "(row.song, row.artist, row.length)"
   ]
  },
  {
   "cell_type": "code",
   "execution_count": 41,
   "metadata": {},
   "outputs": [],
   "source": [
    "songplay_df = df.loc[df['page'] == 'NextSong']"
   ]
  },
  {
   "cell_type": "code",
   "execution_count": 42,
   "metadata": {},
   "outputs": [],
   "source": [
    "songId, artistId = None,None"
   ]
  },
  {
   "cell_type": "code",
   "execution_count": 43,
   "metadata": {},
   "outputs": [
    {
     "data": {
      "text/plain": [
       "(1541903636796,\n",
       " '69',\n",
       " 'free',\n",
       " None,\n",
       " None,\n",
       " 455,\n",
       " 'Philadelphia-Camden-Wilmington, PA-NJ-DE-MD',\n",
       " '\"Mozilla/5.0 (Macintosh; Intel Mac OS X 10_9_4) AppleWebKit/537.36 (KHTML, like Gecko) Chrome/36.0.1985.125 Safari/537.36\"')"
      ]
     },
     "execution_count": 43,
     "metadata": {},
     "output_type": "execute_result"
    }
   ],
   "source": [
    "row.ts, row.userId, row.level, songId, artistId, row.sessionId, row.location, row.userAgent"
   ]
  },
  {
   "cell_type": "code",
   "execution_count": 44,
   "metadata": {
    "editable": true
   },
   "outputs": [
    {
     "name": "stderr",
     "output_type": "stream",
     "text": [
      "6820it [00:07, 868.53it/s]\n"
     ]
    }
   ],
   "source": [
    "for index, row in tqdm(songplay_df.iterrows()):\n",
    "    \n",
    "    # get songid and artistid from song and artist tables\n",
    "    cur.execute(song_select, (row.song, row.artist, row.length))\n",
    "    results = cur.fetchone()\n",
    "    \n",
    "    if results:\n",
    "        songId, artistId = results\n",
    "    else:\n",
    "        songId, artistId = None, None\n",
    "\n",
    "    # insert songplay record\n",
    "    row_time = datetime.datetime.fromtimestamp(row.ts/1000).strftime(\"%Y-%m-%d %H:%M:%S\")\n",
    "    \n",
    "    songplay_data = (row_time, row.userId, row.level, songId, artistId, row.sessionId, row.location, row.userAgent)\n",
    "    cur.execute(songplay_table_insert, songplay_data)\n",
    "#     conn.commit()"
   ]
  },
  {
   "cell_type": "code",
   "execution_count": 45,
   "metadata": {},
   "outputs": [
    {
     "data": {
      "text/plain": [
       "('Inevitable', 'Shakira', 193.82812)"
      ]
     },
     "execution_count": 45,
     "metadata": {},
     "output_type": "execute_result"
    }
   ],
   "source": [
    "(row.song, row.artist, row.length)"
   ]
  },
  {
   "cell_type": "code",
   "execution_count": 46,
   "metadata": {},
   "outputs": [
    {
     "name": "stdout",
     "output_type": "stream",
     "text": [
      "\n",
      "SELECT song_id, a.artist_id \n",
      "FROM \n",
      "    songs AS s JOIN artists AS a\n",
      "    ON s.artist_id = a.artist_id\n",
      "WHERE title = Inevitable AND name = Shakira AND duration = 193.82812;\n",
      "\n"
     ]
    }
   ],
   "source": [
    "print(song_select %  (row.song, row.artist, row.length))"
   ]
  },
  {
   "cell_type": "markdown",
   "metadata": {
    "editable": true
   },
   "source": [
    "Run `test.ipynb` to see if you've successfully added records to this table."
   ]
  },
  {
   "cell_type": "markdown",
   "metadata": {
    "editable": true
   },
   "source": [
    "# Close Connection to Sparkify Database"
   ]
  },
  {
   "cell_type": "code",
   "execution_count": 47,
   "metadata": {
    "editable": true
   },
   "outputs": [],
   "source": [
    "conn.close()"
   ]
  },
  {
   "cell_type": "markdown",
   "metadata": {
    "editable": true
   },
   "source": [
    "# Implement `etl.py`\n",
    "Use what you've completed in this notebook to implement `etl.py`."
   ]
  }
 ],
 "metadata": {
  "kernelspec": {
   "display_name": "Python [conda env:udacity-data] *",
   "language": "python",
   "name": "conda-env-udacity-data-py"
  },
  "language_info": {
   "codemirror_mode": {
    "name": "ipython",
    "version": 3
   },
   "file_extension": ".py",
   "mimetype": "text/x-python",
   "name": "python",
   "nbconvert_exporter": "python",
   "pygments_lexer": "ipython3",
   "version": "3.8.2"
  }
 },
 "nbformat": 4,
 "nbformat_minor": 4
}
